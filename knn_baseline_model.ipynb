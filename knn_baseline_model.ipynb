{
 "cells": [
  {
   "cell_type": "markdown",
   "metadata": {},
   "source": [
    "# KNN Baseline Model\n",
    "\n"
   ]
  },
  {
   "cell_type": "code",
   "metadata": {
    "ExecuteTime": {
     "end_time": "2025-05-23T12:03:05.616896Z",
     "start_time": "2025-05-23T12:03:02.717643Z"
    }
   },
   "source": [
    "# Import necessary libraries\n",
    "import pandas as pd\n",
    "import numpy as np\n",
    "import matplotlib.pyplot as plt\n",
    "import seaborn as sns\n",
    "from sklearn.neighbors import NearestNeighbors\n",
    "from sklearn.preprocessing import StandardScaler, MinMaxScaler\n",
    "from sklearn.model_selection import GroupKFold\n",
    "from sklearn.metrics import ndcg_score\n",
    "import warnings\n",
    "warnings.filterwarnings('ignore')\n",
    "\n",
    "pd.set_option('display.max_columns', None)\n",
    "pd.set_option('display.expand_frame_repr', False)\n",
    "pd.set_option('display.float_format', '{:.4f}'.format)\n",
    "\n",
    "sns.set_style(\"whitegrid\")\n",
    "plt.rcParams['figure.figsize'] = (12, 8)"
   ],
   "outputs": [],
   "execution_count": 1
  },
  {
   "cell_type": "markdown",
   "metadata": {},
   "source": [
    "## 1. Data Loading and Preparation"
   ]
  },
  {
   "cell_type": "code",
   "metadata": {
    "ExecuteTime": {
     "end_time": "2025-05-23T12:05:59.854055Z",
     "start_time": "2025-05-23T12:03:05.636226Z"
    }
   },
   "source": [
    "# Load the feature engineered training data\n",
    "print(\"Loading feature engineered training data...\")\n",
    "try:\n",
    "    df_train = pd.read_csv(\"../data/training_set_VU_DM_feature_engin.csv\")\n",
    "    print(f\"Loaded training dataset with shape: {df_train.shape}\")\n",
    "except FileNotFoundError:\n",
    "    print(\"Feature engineered training file not found. Loading original and applying basic feature engineering...\")\n",
    "    df_train = pd.read_csv(\"../data/training_set_VU_DM.csv\")\n",
    "    print(f\"Loaded original training dataset with shape: {df_train.shape}\")\n",
    "    \n",
    "\n",
    "    for col in df_train.select_dtypes(include=[np.number]).columns:\n",
    "        if df_train[col].isnull().any():\n",
    "            df_train[col] = df_train[col].fillna(df_train[col].median())\n",
    "\n",
    "    df_train['price_per_night'] = df_train['price_usd'] / df_train['srch_length_of_stay']\n",
    "    df_train.loc[df_train['srch_length_of_stay'] == 0, 'price_per_night'] = df_train['price_usd']\n",
    "    \n",
    "    df_train['value_for_money_normalized'] = df_train['prop_starrating'] / df_train['price_per_night']\n",
    "    df_train['value_for_money_normalized'] = df_train['value_for_money_normalized'] / df_train['value_for_money_normalized'].max()\n",
    "    \n",
    "    df_train['price_normalized'] = df_train.groupby('srch_id')['price_usd'].transform(\n",
    "        lambda x: (x - x.min()) / (x.max() - x.min() + 1e-10))\n",
    "    \n",
    "    df_train['price_rank_pct'] = df_train.groupby('srch_id')['price_usd'].rank(pct=True)\n",
    "    \n",
    "    df_train['prop_country_rank_pct'] = df_train.groupby('prop_country_id')['prop_starrating'].rank(pct=True)\n",
    "    \n",
    "    df_train['star_rating_for_price'] = df_train['prop_starrating'] / np.log1p(df_train['price_per_night'])\n",
    "    \n",
    "    df_train['quality_price_ratio'] = (0.5 * (df_train['prop_starrating'] / 5) + \n",
    "                                       0.5 * (df_train['prop_review_score'] / 5)) / df_train['price_normalized']\n",
    "    df_train['quality_price_ratio'] = df_train['quality_price_ratio'].fillna(df_train['quality_price_ratio'].median())\n",
    "    df_train['quality_price_ratio'] = df_train['quality_price_ratio'].replace([np.inf, -np.inf], \n",
    "                                                                               df_train['quality_price_ratio'].median())\n",
    "    \n",
    "\n",
    "    df_train['price_discount'] = 1 - (df_train['price_usd'] / np.exp(df_train['prop_log_historical_price']))\n",
    "\n",
    "# Display basic info\n",
    "print(f\"\\nDataset shape: {df_train.shape}\")\n",
    "print(f\"Number of unique searches: {df_train['srch_id'].nunique():,}\")\n",
    "print(f\"Number of unique hotels: {df_train['prop_id'].nunique():,}\")"
   ],
   "outputs": [
    {
     "name": "stdout",
     "output_type": "stream",
     "text": [
      "Loading feature engineered training data...\n",
      "Loaded training dataset with shape: (4958347, 150)\n",
      "\n",
      "Dataset shape: (4958347, 150)\n",
      "Number of unique searches: 199,795\n",
      "Number of unique hotels: 129,113\n"
     ]
    }
   ],
   "execution_count": 2
  },
  {
   "cell_type": "code",
   "metadata": {
    "ExecuteTime": {
     "end_time": "2025-05-23T12:06:02.152106Z",
     "start_time": "2025-05-23T12:06:00.894494Z"
    }
   },
   "source": [
    "# Create relevance score based on clicks and bookings\n",
    "if 'click_bool' in df_train.columns and 'booking_bool' in df_train.columns:\n",
    "    df_train['relevance'] = 0\n",
    "    df_train.loc[df_train['click_bool'] == 1, 'relevance'] = 1\n",
    "    df_train.loc[df_train['booking_bool'] == 1, 'relevance'] = 2\n",
    "    \n",
    "    print(\"\\nRelevance score distribution:\")\n",
    "    print(df_train['relevance'].value_counts().sort_index())\n",
    "    \n",
    "    # Visualize relevance distribution\n",
    "    plt.figure(figsize=(10, 6))\n",
    "    df_train['relevance'].value_counts().sort_index().plot(kind='bar')\n",
    "    plt.title('Distribution of Relevance Scores')\n",
    "    plt.xlabel('Relevance Score (0=no interaction, 1=click, 2=booking)')\n",
    "    plt.ylabel('Count')\n",
    "    plt.yscale('log')\n",
    "    plt.tight_layout()\n",
    "    plt.show()\nelse:\n",
    "    print(\"Warning: click_bool or booking_bool columns not found. Creating dummy relevance scores.\")\n",
    "    df_train['relevance'] = 0"
   ],
   "outputs": [
    {
     "name": "stdout",
     "output_type": "stream",
     "text": [
      "\n",
      "Relevance score distribution:\n",
      "relevance\n",
      "0    4736468\n",
      "1      83489\n",
      "2     138390\n",
      "Name: count, dtype: int64\n"
     ]
    },
    {
     "data": {
      "text/plain": [
       "<Figure size 1000x600 with 1 Axes>"
      ],
      "image/png": "[encoded data removed]"
     },
     "metadata": {},
     "output_type": "display_data"
    }
   ],
   "execution_count": 3
  },
  {
   "cell_type": "markdown",
   "metadata": {},
   "source": [
    "## 2. Feature Selection - Top 10 Features\n",
    "\n",
    "Based on the feature importance analysis from the main experiment notebook, we select the top 10 most important features for our KNN model."
   ]
  },
  {
   "cell_type": "code",
   "metadata": {
    "ExecuteTime": {
     "end_time": "2025-05-23T12:06:02.264009Z",
     "start_time": "2025-05-23T12:06:02.247993Z"
    }
   },
   "source": [
    "# Define top 10 features based on importance analysis from main experiment\n",
    "# These are the features that showed highest importance in the LightGBM model\n",
    "top_10_features = [\n",
    "    'prop_location_score2',      # Most important feature\n",
    "    'price_discount',            # Price-related feature\n",
    "    'price_rank_pct',           # Ranking within search\n",
    "    'prop_location_score1',     # Location quality\n",
    "    'prop_country_rank_pct',    # Hotel ranking within country\n",
    "    'star_rating_for_price',    # Value metric\n",
    "    'quality_price_ratio',      # Quality vs price\n",
    "    'promotion_flag',           # Promotion indicator\n",
    "    'prop_review_score',        # Review quality\n",
    "    'price_usd'                 # Base price\n",
    "]\n",
    "\n",
    "\n",
    "available_features = [f for f in top_10_features if f in df_train.columns]\n",
    "missing_features = [f for f in top_10_features if f not in df_train.columns]\n",
    "\n",
    "print(f\"Available features ({len(available_features)}/10): {available_features}\")\n",
    "if missing_features:\n",
    "    print(f\"Missing features: {missing_features}\")\n",
    "    \n",
    "\n",
    "    for feature in missing_features:\n",
    "        if feature == 'price_discount' and 'price_discount' not in df_train.columns:\n",
    "            df_train['price_discount'] = 1 - (df_train['price_usd'] / \n",
    "                                             np.exp(df_train['prop_log_historical_price']))\n",
    "            available_features.append('price_discount')\n",
    "        elif feature == 'price_rank_pct' and 'price_rank_pct' not in df_train.columns:\n",
    "            df_train['price_rank_pct'] = df_train.groupby('srch_id')['price_usd'].rank(pct=True)\n",
    "            available_features.append('price_rank_pct')\n",
    "        elif feature == 'prop_country_rank_pct' and 'prop_country_rank_pct' not in df_train.columns:\n",
    "            df_train['prop_country_rank_pct'] = df_train.groupby('prop_country_id')['prop_starrating'].rank(pct=True)\n",
    "            available_features.append('prop_country_rank_pct')\n",
    "        elif feature == 'star_rating_for_price' and 'star_rating_for_price' not in df_train.columns:\n",
    "            df_train['price_per_night'] = df_train['price_usd'] / df_train['srch_length_of_stay']\n",
    "            df_train.loc[df_train['srch_length_of_stay'] == 0, 'price_per_night'] = df_train['price_usd']\n",
    "            df_train['star_rating_for_price'] = df_train['prop_starrating'] / np.log1p(df_train['price_per_night'])\n",
    "            available_features.append('star_rating_for_price')\n",
    "        elif feature == 'quality_price_ratio' and 'quality_price_ratio' not in df_train.columns:\n",
    "            df_train['price_normalized'] = df_train.groupby('srch_id')['price_usd'].transform(\n",
    "                lambda x: (x - x.min()) / (x.max() - x.min() + 1e-10))\n",
    "            df_train['quality_price_ratio'] = (0.5 * (df_train['prop_starrating'] / 5) + \n",
    "                                               0.5 * (df_train['prop_review_score'] / 5)) / (df_train['price_normalized'] + 1e-10)\n",
    "            df_train['quality_price_ratio'] = df_train['quality_price_ratio'].replace([np.inf, -np.inf], \n",
    "                                                                                       df_train['quality_price_ratio'].median())\n",
    "            available_features.append('quality_price_ratio')\n",
    "    \n",
    "\n",
    "    missing_features = [f for f in top_10_features if f not in df_train.columns]\n",
    "    \n",
    "# Use available features for modeling\n",
    "model_features = [f for f in available_features if f in df_train.columns]\n",
    "print(f\"\\nFinal features for modeling ({len(model_features)}): {model_features}\")"
   ],
   "outputs": [
    {
     "name": "stdout",
     "output_type": "stream",
     "text": [
      "Available features (10/10): ['prop_location_score2', 'price_discount', 'price_rank_pct', 'prop_location_score1', 'prop_country_rank_pct', 'star_rating_for_price', 'quality_price_ratio', 'promotion_flag', 'prop_review_score', 'price_usd']\n",
      "\n",
      "Final features for modeling (10): ['prop_location_score2', 'price_discount', 'price_rank_pct', 'prop_location_score1', 'prop_country_rank_pct', 'star_rating_for_price', 'quality_price_ratio', 'promotion_flag', 'prop_review_score', 'price_usd']\n"
     ]
    }
   ],
   "execution_count": 4
  },
  {
   "cell_type": "code",
   "metadata": {
    "ExecuteTime": {
     "end_time": "2025-05-23T12:06:06.737451Z",
     "start_time": "2025-05-23T12:06:02.300014Z"
    }
   },
   "source": [
    "# Analyze the selected features\n",
    "print(\"Feature statistics:\")\n",
    "feature_stats = df_train[model_features].describe().T\n",
    "print(feature_stats)\n",
    "\n",
    "# Check for missing values in selected features\n",
    "missing_in_features = df_train[model_features].isnull().sum()\n",
    "if missing_in_features.sum() > 0:\n",
    "    print(\"\\nMissing values in selected features:\")\n",
    "    print(missing_in_features[missing_in_features > 0])\n",
    "    \n",
    "\n",
    "    for col in model_features:\n",
    "        if df_train[col].isnull().any():\n",
    "            median_val = df_train[col].median()\n",
    "            df_train[col] = df_train[col].fillna(median_val)\n",
    "            print(f\"Filled {col} missing values with median: {median_val}\")\n",
    "else:\n",
    "    print(\"\\nNo missing values in selected features.\")"
   ],
   "outputs": [
    {
     "name": "stdout",
     "output_type": "stream",
     "text": [
      "Feature statistics:\n",
      "                             count     mean        std            min     25%      50%      75%           max\n",
      "prop_location_score2  4958347.0000   0.1267     0.1472         0.0000  0.0223   0.0855   0.1549        1.0000\n",
      "price_discount        4958347.0000 -50.3981 12407.8512 -19726327.0000 -0.1741   0.1415   0.3131        1.0000\n",
      "price_rank_pct        4958347.0000   0.5201     0.2882         0.0263  0.2727   0.5172   0.7727        1.0000\n",
      "prop_location_score1  4958347.0000   2.8726     1.5310         0.0000  1.7900   2.7700   4.0400        6.9800\n",
      "prop_country_rank_pct 4958347.0000   0.5000     0.2707         0.0002  0.2619   0.4973   0.7836        1.0000\n",
      "star_rating_for_price 4958347.0000   0.8150    11.7311         0.0000  0.6164   0.7574   0.9194     6801.9998\n",
      "quality_price_ratio   4958347.0000   5.3298    70.4113         0.0000  1.3993   2.4391   4.2350    63397.5000\n",
      "promotion_flag        4958347.0000   0.2156     0.4113         0.0000  0.0000   0.0000   0.0000        1.0000\n",
      "prop_review_score     4958347.0000   3.7778     1.0495         0.0000  3.5000   4.0000   4.5000        5.0000\n",
      "price_usd             4958347.0000 254.2096 16001.2371         0.0000 85.0000 122.0000 184.9600 19726328.0000\n",
      "\n",
      "No missing values in selected features.\n"
     ]
    }
   ],
   "execution_count": 5
  },
  {
   "cell_type": "markdown",
   "metadata": {},
   "source": [
    "## 3. Data Sampling for Efficient Training\n",
    "\n",
    "Since KNN can be computationally expensive on large datasets, we'll use a sample of the data for training while ensuring we maintain the search group structure."
   ]
  },
  {
   "cell_type": "code",
   "metadata": {
    "ExecuteTime": {
     "end_time": "2025-05-23T12:06:22.257410Z",
     "start_time": "2025-05-23T12:06:06.834686Z"
    }
   },
   "source": [
    "\n",
    "SAMPLE_FRACTION = 0.1  # Use 10% of searches\n",
    "\n",
    "print(f\"Sampling {SAMPLE_FRACTION*100}% of the data for training...\")\n",
    "\n",
    "# Sample search IDs to maintain group structure\n",
    "unique_searches = df_train['srch_id'].unique()\n",
    "n_sample_searches = int(len(unique_searches) * SAMPLE_FRACTION)\n",
    "sampled_searches = np.random.choice(unique_searches, size=n_sample_searches, replace=False)\n",
    "\n",
    "# Filter data to sampled searches\n",
    "df_sample = df_train[df_train['srch_id'].isin(sampled_searches)].copy()\n",
    "\n",
    "print(f\"Original data: {len(df_train):,} rows, {df_train['srch_id'].nunique():,} searches\")\n",
    "print(f\"Sampled data: {len(df_sample):,} rows, {df_sample['srch_id'].nunique():,} searches\")\n",
    "\n",
    "# Prepare features and target\n",
    "X = df_sample[model_features].copy()\n",
    "y = df_sample['relevance'].copy()\n",
    "groups = df_sample['srch_id'].copy()\n",
    "\n",
    "print(f\"\\nFeature matrix shape: {X.shape}\")\n",
    "print(f\"Target distribution in sample:\")\n",
    "print(y.value_counts().sort_index())"
   ],
   "outputs": [
    {
     "name": "stdout",
     "output_type": "stream",
     "text": [
      "Sampling 10.0% of the data for training...\n",
      "Original data: 4,958,347 rows, 199,795 searches\n",
      "Sampled data: 495,448 rows, 19,979 searches\n",
      "\n",
      "Feature matrix shape: (495448, 10)\n",
      "Target distribution in sample:\n",
      "relevance\n",
      "0    473272\n",
      "1      8373\n",
      "2     13803\n",
      "Name: count, dtype: int64\n"
     ]
    }
   ],
   "execution_count": 6
  },
  {
   "cell_type": "markdown",
   "metadata": {},
   "source": [
    "## 4. Feature Scaling and Preprocessing"
   ]
  },
  {
   "cell_type": "code",
   "metadata": {
    "ExecuteTime": {
     "end_time": "2025-05-23T12:06:22.850805Z",
     "start_time": "2025-05-23T12:06:22.459479Z"
    }
   },
   "source": [
    "# Feature scaling - important for KNN\n",
    "print(\"Scaling features...\")\n",
    "\n",
    "scaler = StandardScaler()\n",
    "X_scaled = scaler.fit_transform(X)\n",
    "X_scaled = pd.DataFrame(X_scaled, columns=model_features, index=X.index)\n",
    "\n",
    "print(\"Feature scaling completed.\")\n",
    "print(\"\\nScaled feature statistics:\")\n",
    "print(X_scaled.describe().T)"
   ],
   "outputs": [
    {
     "name": "stdout",
     "output_type": "stream",
     "text": [
      "Scaling features...\n",
      "Feature scaling completed.\n",
      "\n",
      "Scaled feature statistics:\n",
      "                            count    mean    std       min     25%     50%     75%      max\n",
      "prop_location_score2  495448.0000  0.0000 1.0000   -0.8575 -0.7065 -0.2821  0.1850   5.9116\n",
      "price_discount        495448.0000  0.0000 1.0000 -680.1749  0.0038  0.0038  0.0038   0.0039\n",
      "price_rank_pct        495448.0000  0.0000 1.0000   -1.7109 -0.8585 -0.0101  0.8763   1.6648\n",
      "prop_location_score1  495448.0000 -0.0000 1.0000   -1.8704 -0.7104 -0.0754  0.7606   2.6528\n",
      "prop_country_rank_pct 495448.0000 -0.0000 1.0000   -1.8396 -0.8787 -0.0096  1.0444   1.8089\n",
      "star_rating_for_price 495448.0000 -0.0000 1.0000   -1.7304 -0.3545 -0.0396  0.3211 121.7412\n",
      "quality_price_ratio   495448.0000  0.0000 1.0000   -0.0833 -0.0613 -0.0449 -0.0166 501.3154\n",
      "promotion_flag        495448.0000  0.0000 1.0000   -0.5264 -0.5264 -0.5264 -0.5264   1.8998\n",
      "prop_review_score     495448.0000 -0.0000 1.0000   -3.5761 -0.2618  0.2117  0.6852   1.1587\n",
      "price_usd             495448.0000 -0.0000 1.0000   -0.0135 -0.0087 -0.0066 -0.0030 668.4144\n"
     ]
    }
   ],
   "execution_count": 7
  },
  {
   "cell_type": "markdown",
   "metadata": {},
   "source": [
    "## 5. KNN-Based Ranking Model Implementation\n",
    "\n"
   ]
  },
  {
   "cell_type": "code",
   "metadata": {
    "ExecuteTime": {
     "end_time": "2025-05-23T12:06:22.967752Z",
     "start_time": "2025-05-23T12:06:22.946451Z"
    }
   },
   "source": [
    "class KNNRankingModel:\n",
    "\n",
    "    \n",
    "    def __init__(self, n_neighbors=5, metric='euclidean', weights='distance'):\n",
    "        self.n_neighbors = n_neighbors\n",
    "        self.metric = metric\n",
    "        self.weights = weights\n",
    "        self.knn_model = None\n",
    "        self.feature_names = None\n",
    "        \n",
    "    def fit(self, X, y):\n",
    "\n",
    "        self.feature_names = X.columns.tolist() if hasattr(X, 'columns') else None\n",
    "        \n",
    "        # Initialize KNN model\n",
    "        self.knn_model = NearestNeighbors(\n",
    "            n_neighbors=self.n_neighbors,\n",
    "            metric=self.metric,\n",
    "            algorithm='auto'\n",
    "        )\n",
    "        \n",
    "        # Fit the model\n",
    "        self.knn_model.fit(X)\n",
    "        \n",
    "        # Store training targets for prediction\n",
    "        self.y_train = y.values if hasattr(y, 'values') else y\n",
    "        \n",
    "        return self\n",
    "    \n",
    "    def predict(self, X):\n",
    "\n",
    "        if self.knn_model is None:\n",
    "            raise ValueError(\"Model must be fitted before prediction\")\n",
    "        \n",
    "        # Find neighbors\n",
    "        distances, indices = self.knn_model.kneighbors(X)\n",
    "        \n",
    "        # Predict based on neighbors\n",
    "        predictions = []\n",
    "        \n",
    "        for i in range(len(X)):\n",
    "            neighbor_distances = distances[i]\n",
    "            neighbor_indices = indices[i]\n",
    "            neighbor_targets = self.y_train[neighbor_indices]\n",
    "            \n",
    "            if self.weights == 'uniform':\n",
    "                # Simple average\n",
    "                pred = np.mean(neighbor_targets)\n",
    "            elif self.weights == 'distance':\n",
    "                # Distance-weighted average\n",
    "                if np.sum(neighbor_distances) == 0:\n",
    "                    # If all distances are 0, use uniform weights\n",
    "                    pred = np.mean(neighbor_targets)\n",
    "                else:\n",
    "                    # Use inverse distance as weights\n",
    "                    weights = 1.0 / (neighbor_distances + 1e-8)\n",
    "                    pred = np.average(neighbor_targets, weights=weights)\n",
    "            else:\n",
    "                pred = np.mean(neighbor_targets)\n",
    "            \n",
    "            predictions.append(pred)\n",
    "        \n",
    "        return np.array(predictions)\n",
    "    \n",
    "    def rank_within_searches(self, X, search_ids):\n",
    "\n",
    "        predictions = self.predict(X)\n",
    "        \n",
    "        # Create results dataframe\n",
    "        results = pd.DataFrame({\n",
    "            'search_id': search_ids,\n",
    "            'predicted_relevance': predictions\n",
    "        })\n",
    "        \n",
    "        # Rank within each search (higher relevance = better rank)\n",
    "        results['rank'] = results.groupby('search_id')['predicted_relevance'].rank(\n",
    "            method='dense', ascending=False)\n",
    "        \n",
    "        return results\n",
    "\n",
    "print(\"KNN Ranking Model class defined.\")"
   ],
   "outputs": [
    {
     "name": "stdout",
     "output_type": "stream",
     "text": [
      "KNN Ranking Model class defined.\n"
     ]
    }
   ],
   "execution_count": 8
  },
  {
   "cell_type": "markdown",
   "metadata": {},
   "source": [
    "## 6. Cross-Validation and Model Evaluation"
   ]
  },
  {
   "cell_type": "code",
   "metadata": {
    "ExecuteTime": {
     "end_time": "2025-05-23T12:06:23.078102Z",
     "start_time": "2025-05-23T12:06:23.066727Z"
    }
   },
   "source": [
    "def calculate_ndcg_at_k(y_true, y_pred, k=5):\n",
    "    \"\"\"\n",
    "    Calculate NDCG@K for ranking evaluation.\n",
    "    \"\"\"\n",
    "    # Convert to numpy arrays\n",
    "    y_true = np.array(y_true)\n",
    "    y_pred = np.array(y_pred)\n",
    "    \n",
    "    # Handle case where we have fewer than k items\n",
    "    if len(y_true) < k:\n",
    "        k = len(y_true)\n",
    "    \n",
    "    if k == 0:\n",
    "        return 0.0\n",
    "    \n",
    "    # Use sklearn's ndcg_score with appropriate label gains\n",
    "    # Reshape for sklearn (expects 2D arrays)\n",
    "    y_true_2d = y_true.reshape(1, -1)\n",
    "    y_pred_2d = y_pred.reshape(1, -1)\n",
    "    \n",
    "    return ndcg_score(y_true_2d, y_pred_2d, k=k)\n",
    "\n",
    "\n",
    "def evaluate_ranking_model(model, X, y, search_ids, k=5):\n",
    "    \"\"\"\n",
    "    Evaluate ranking model using NDCG@K.\n",
    "    \"\"\"\n",
    "    # Get predictions and rankings\n",
    "    results = model.rank_within_searches(X, search_ids)\n",
    "    \n",
    "    # Calculate NDCG@K for each search\n",
    "    ndcg_scores = []\n",
    "    \n",
    "    for search_id in search_ids.unique():\n",
    "        # Get data for this search\n",
    "        search_mask = search_ids == search_id\n",
    "        search_y_true = y[search_mask].values\n",
    "        search_predictions = results[results['search_id'] == search_id]['predicted_relevance'].values\n",
    "        \n",
    "        # Calculate NDCG@K for this search\n",
    "        ndcg = calculate_ndcg_at_k(search_y_true, search_predictions, k=k)\n",
    "        ndcg_scores.append(ndcg)\n",
    "    \n",
    "    return np.mean(ndcg_scores), np.std(ndcg_scores), ndcg_scores\n",
    "\n",
    "print(\"Evaluation functions defined.\")"
   ],
   "outputs": [
    {
     "name": "stdout",
     "output_type": "stream",
     "text": [
      "Evaluation functions defined.\n"
     ]
    }
   ],
   "execution_count": 9
  },
  {
   "cell_type": "code",
   "metadata": {
    "ExecuteTime": {
     "end_time": "2025-05-23T12:31:25.550986Z",
     "start_time": "2025-05-23T12:06:23.197961Z"
    }
   },
   "source": [
    "# Perform cross-validation using GroupKFold\n",
    "print(\"Performing cross-validation...\")\n",
    "\n",
    "N_FOLDS = 3  # Use fewer folds due to computational cost of KNN\n",
    "K_VALUES = [3, 5, 7, 10]  # Different values of K to test\n",
    "\n",
    "# Initialize results storage\n",
    "cv_results = {}\n",
    "\n",
    "# Group K-Fold cross-validation (groups by search_id)\n",
    "gkf = GroupKFold(n_splits=N_FOLDS)\n",
    "\n",
    "for k_neighbors in K_VALUES:\n",
    "    print(f\"\\n--- Testing K={k_neighbors} ---\")\n",
    "    \n",
    "    fold_scores = []\n",
    "    \n",
    "    for fold, (train_idx, val_idx) in enumerate(gkf.split(X_scaled, y, groups=groups)):\n",
    "        print(f\"Fold {fold + 1}/{N_FOLDS}\")\n",
    "        \n",
    "        # Split data\n",
    "        X_train_fold = X_scaled.iloc[train_idx]\n",
    "        y_train_fold = y.iloc[train_idx]\n",
    "        X_val_fold = X_scaled.iloc[val_idx]\n",
    "        y_val_fold = y.iloc[val_idx]\n",
    "        groups_val_fold = groups.iloc[val_idx]\n",
    "        \n",
    "        # Train model\n",
    "        model = KNNRankingModel(n_neighbors=k_neighbors, weights='distance')\n",
    "        model.fit(X_train_fold, y_train_fold)\n",
    "        \n",
    "        # Evaluate\n",
    "        mean_ndcg, std_ndcg, _ = evaluate_ranking_model(\n",
    "            model, X_val_fold, y_val_fold, groups_val_fold, k=5)\n",
    "        \n",
    "        fold_scores.append(mean_ndcg)\n",
    "        print(f\"  NDCG@5: {mean_ndcg:.4f}\")\n",
    "    \n",
    "    # Store results\n",
    "    cv_results[k_neighbors] = {\n",
    "        'mean_ndcg': np.mean(fold_scores),\n",
    "        'std_ndcg': np.std(fold_scores),\n",
    "        'fold_scores': fold_scores\n",
    "    }\n",
    "    \n",
    "    print(f\"  Average NDCG@5: {np.mean(fold_scores):.4f} ± {np.std(fold_scores):.4f}\")\n",
    "\n",
    "print(\"\\n\" + \"=\"*50)\n",
    "print(\"CROSS-VALIDATION RESULTS\")\n",
    "print(\"=\"*50)\n",
    "\n",
    "for k_neighbors, results in cv_results.items():\n",
    "    print(f\"K={k_neighbors}: NDCG@5 = {results['mean_ndcg']:.4f} ± {results['std_ndcg']:.4f}\")\n",
    "\n",
    "# Find best K\n",
    "best_k = max(cv_results.keys(), key=lambda k: cv_results[k]['mean_ndcg'])\n",
    "print(f\"\\nBest K: {best_k} (NDCG@5: {cv_results[best_k]['mean_ndcg']:.4f})\")"
   ],
   "outputs": [
    {
     "name": "stdout",
     "output_type": "stream",
     "text": [
      "Performing cross-validation...\n",
      "\n",
      "--- Testing K=3 ---\n",
      "Fold 1/3\n",
      "  NDCG@5: 0.2058\n",
      "Fold 2/3\n",
      "  NDCG@5: 0.2041\n",
      "Fold 3/3\n",
      "  NDCG@5: 0.2093\n",
      "  Average NDCG@5: 0.2064 ± 0.0021\n",
      "\n",
      "--- Testing K=5 ---\n",
      "Fold 1/3\n",
      "  NDCG@5: 0.2187\n",
      "Fold 2/3\n",
      "  NDCG@5: 0.2158\n",
      "Fold 3/3\n",
      "  NDCG@5: 0.2225\n",
      "  Average NDCG@5: 0.2190 ± 0.0027\n",
      "\n",
      "--- Testing K=7 ---\n",
      "Fold 1/3\n",
      "  NDCG@5: 0.2244\n",
      "Fold 2/3\n",
      "  NDCG@5: 0.2267\n",
      "Fold 3/3\n",
      "  NDCG@5: 0.2317\n",
      "  Average NDCG@5: 0.2276 ± 0.0030\n",
      "\n",
      "--- Testing K=10 ---\n",
      "Fold 1/3\n",
      "  NDCG@5: 0.2318\n",
      "Fold 2/3\n",
      "  NDCG@5: 0.2342\n",
      "Fold 3/3\n",
      "  NDCG@5: 0.2360\n",
      "  Average NDCG@5: 0.2340 ± 0.0017\n",
      "\n",
      "==================================================\n",
      "CROSS-VALIDATION RESULTS\n",
      "==================================================\n",
      "K=3: NDCG@5 = 0.2064 ± 0.0021\n",
      "K=5: NDCG@5 = 0.2190 ± 0.0027\n",
      "K=7: NDCG@5 = 0.2276 ± 0.0030\n",
      "K=10: NDCG@5 = 0.2340 ± 0.0017\n",
      "\n",
      "Best K: 10 (NDCG@5: 0.2340)\n"
     ]
    }
   ],
   "execution_count": 10
  },
  {
   "cell_type": "code",
   "metadata": {
    "ExecuteTime": {
     "end_time": "2025-05-23T12:31:30.587165Z",
     "start_time": "2025-05-23T12:31:26.928615Z"
    }
   },
   "source": [
    "# Visualize cross-validation results\n",
    "plt.figure(figsize=(12, 8))\n",
    "\n",
    "# Plot 1: NDCG@5 by K value\n",
    "plt.subplot(2, 2, 1)\n",
    "k_values = list(cv_results.keys())\n",
    "mean_scores = [cv_results[k]['mean_ndcg'] for k in k_values]\n",
    "std_scores = [cv_results[k]['std_ndcg'] for k in k_values]\n",
    "\n",
    "plt.errorbar(k_values, mean_scores, yerr=std_scores, marker='o', capsize=5)\n",
    "plt.xlabel('K (Number of Neighbors)')\n",
    "plt.ylabel('NDCG@5')\n",
    "plt.title('Cross-Validation Results by K Value')\n",
    "plt.grid(True, alpha=0.3)\n",
    "\n",
    "# Plot 2: Fold scores for best K\n",
    "plt.subplot(2, 2, 2)\n",
    "best_fold_scores = cv_results[best_k]['fold_scores']\n",
    "plt.bar(range(1, len(best_fold_scores) + 1), best_fold_scores)\n",
    "plt.xlabel('Fold')\n",
    "plt.ylabel('NDCG@5')\n",
    "plt.title(f'Fold Scores for Best K={best_k}')\n",
    "plt.grid(True, alpha=0.3)\n",
    "\n",
    "# Plot 3: Feature importance (correlation with target)\n",
    "plt.subplot(2, 2, 3)\n",
    "feature_correlations = X.corrwith(y).abs().sort_values(ascending=True)\n",
    "feature_correlations.plot(kind='barh')\n",
    "plt.xlabel('Absolute Correlation with Relevance')\n",
    "plt.title('Feature Importance (Correlation)')\n",
    "\n",
    "# Plot 4: Distribution of predictions vs actual\n",
    "plt.subplot(2, 2, 4)\n",
    "# Use best model to get predictions on a subset\n",
    "sample_indices = np.random.choice(len(X_scaled), size=min(1000, len(X_scaled)), replace=False)\n",
    "X_sample = X_scaled.iloc[sample_indices]\n",
    "y_sample = y.iloc[sample_indices]\n",
    "\n",
    "model_best = KNNRankingModel(n_neighbors=best_k, weights='distance')\n",
    "model_best.fit(X_scaled, y)\n",
    "y_pred_sample = model_best.predict(X_sample)\n",
    "\n",
    "plt.scatter(y_sample, y_pred_sample, alpha=0.6)\n",
    "plt.xlabel('Actual Relevance')\n",
    "plt.ylabel('Predicted Relevance')\n",
    "plt.title('Predictions vs Actual')\n",
    "plt.plot([0, 2], [0, 2], 'r--', alpha=0.8)\n",
    "\n",
    "plt.tight_layout()\n",
    "plt.show()"
   ],
   "outputs": [
    {
     "data": {
      "text/plain": [
       "<Figure size 1200x800 with 4 Axes>"
      ],
      "image/png": "[encoded data removed]"
     },
     "metadata": {},
     "output_type": "display_data"
    }
   ],
   "execution_count": 11
  },
  {
   "cell_type": "markdown",
   "metadata": {},
   "source": [
    "## 7. Final Model Training and Feature Analysis"
   ]
  },
  {
   "cell_type": "code",
   "metadata": {
    "ExecuteTime": {
     "end_time": "2025-05-23T12:31:32.155769Z",
     "start_time": "2025-05-23T12:31:30.694427Z"
    }
   },
   "source": [
    "# Train final model with best parameters\n",
    "print(f\"Training final model with K={best_k}...\")\n",
    "\n",
    "final_model = KNNRankingModel(n_neighbors=best_k, weights='distance')\n",
    "final_model.fit(X_scaled, y)\n",
    "\n",
    "print(\"Final model training completed.\")\n",
    "\n",
    "# Analyze feature importance through correlation and prediction impact\n",
    "print(\"\\nFeature Analysis:\")\n",
    "print(\"=\" * 40)\n",
    "\n",
    "\n",
    "feature_correlations = X.corrwith(y).abs().sort_values(ascending=False)\n",
    "print(\"\\nFeature correlations with relevance (absolute):\")\n",
    "for feature, corr in feature_correlations.items():\n",
    "    print(f\"{feature:25s}: {corr:.4f}\")\n",
    "\n",
    "\n",
    "print(\"\\nFeature statistics by relevance level:\")\n",
    "relevance_stats = df_sample.groupby('relevance')[model_features].mean()\n",
    "print(relevance_stats.T)\n",
    "\n",
    "\n",
    "print(\"\\nFeature value ranges:\")\n",
    "for feature in model_features:\n",
    "    min_val = X[feature].min()\n",
    "    max_val = X[feature].max()\n",
    "    mean_val = X[feature].mean()\n",
    "    print(f\"{feature:25s}: [{min_val:8.4f}, {max_val:8.4f}], mean: {mean_val:8.4f}\")"
   ],
   "outputs": [
    {
     "name": "stdout",
     "output_type": "stream",
     "text": [
      "Training final model with K=10...\n",
      "Final model training completed.\n",
      "\n",
      "Feature Analysis:\n",
      "========================================\n",
      "\n",
      "Feature correlations with relevance (absolute):\n",
      "prop_location_score2     : 0.0689\n",
      "price_rank_pct           : 0.0439\n",
      "promotion_flag           : 0.0387\n",
      "prop_country_rank_pct    : 0.0288\n",
      "prop_review_score        : 0.0238\n",
      "star_rating_for_price    : 0.0217\n",
      "quality_price_ratio      : 0.0092\n",
      "prop_location_score1     : 0.0008\n",
      "price_usd                : 0.0004\n",
      "price_discount           : 0.0001\n",
      "\n",
      "Feature statistics by relevance level:\n",
      "relevance                    0         1        2\n",
      "prop_location_score2    0.1245    0.1626   0.1799\n",
      "price_discount        -65.2590 -203.7252 -19.0176\n",
      "price_rank_pct          0.5229    0.4772   0.4534\n",
      "prop_location_score1    2.8852    2.9837   2.8642\n",
      "prop_country_rank_pct   0.4982    0.5355   0.5384\n",
      "star_rating_for_price   0.7726    0.8618   0.8101\n",
      "quality_price_ratio     5.1459    6.1025   8.6736\n",
      "promotion_flag          0.2135    0.2734   0.3003\n",
      "prop_review_score       3.7716    3.8003   3.9276\n",
      "price_usd             239.0372  380.3077 155.5378\n",
      "\n",
      "Feature value ranges:\n",
      "prop_location_score2     : [  0.0000,   1.0000], mean:   0.1267\n",
      "price_discount           : [-11818010.0000,   0.9995], mean: -66.3108\n",
      "price_rank_pct           : [  0.0270,   1.0000], mean:   0.5202\n",
      "prop_location_score1     : [  0.0000,   6.9800], mean:   2.8863\n",
      "prop_country_rank_pct    : [  0.0003,   0.9913], mean:   0.4999\n",
      "star_rating_for_price    : [  0.0000,  55.3092], mean:   0.7751\n",
      "quality_price_ratio      : [  0.0000, 31655.4000], mean:   5.2603\n",
      "promotion_flag           : [  0.0000,   1.0000], mean:   0.2170\n",
      "prop_review_score        : [  0.0000,   5.0000], mean:   3.7764\n",
      "price_usd                : [  0.0600, 11818011.0000], mean: 239.0984\n"
     ]
    }
   ],
   "execution_count": 12
  },
  {
   "cell_type": "markdown",
   "metadata": {},
   "source": [
    "## 8. Test Data Preparation and Prediction"
   ]
  },
  {
   "cell_type": "code",
   "metadata": {
    "ExecuteTime": {
     "end_time": "2025-05-23T12:32:58.070932Z",
     "start_time": "2025-05-23T12:31:32.244358Z"
    }
   },
   "source": [
    "# Load test data\n",
    "print(\"Loading test data...\")\n",
    "try:\n",
    "    df_test = pd.read_csv(\"../data/test_set_VU_DM_feature_engin.csv\")\n",
    "    print(f\"Loaded feature engineered test dataset with shape: {df_test.shape}\")\n",
    "except FileNotFoundError:\n",
    "    print(\"Feature engineered test file not found. Loading original and applying feature engineering...\")\n",
    "    df_test = pd.read_csv(\"../data/test_set_VU_DM.csv\")\n",
    "    print(f\"Loaded original test dataset with shape: {df_test.shape}\")\n",
    "    \n",
    "\n",
    "    for col in df_test.select_dtypes(include=[np.number]).columns:\n",
    "        if df_test[col].isnull().any():\n",
    "            df_test[col] = df_test[col].fillna(df_test[col].median())\n",
    "    \n",
    "    # Create the same engineered features\n",
    "    df_test['price_per_night'] = df_test['price_usd'] / df_test['srch_length_of_stay']\n",
    "    df_test.loc[df_test['srch_length_of_stay'] == 0, 'price_per_night'] = df_test['price_usd']\n",
    "    \n",
    "    df_test['value_for_money_normalized'] = df_test['prop_starrating'] / df_test['price_per_night']\n",
    "    df_test['value_for_money_normalized'] = df_test['value_for_money_normalized'] / df_test['value_for_money_normalized'].max()\n",
    "    \n",
    "    df_test['price_normalized'] = df_test.groupby('srch_id')['price_usd'].transform(\n",
    "        lambda x: (x - x.min()) / (x.max() - x.min() + 1e-10))\n",
    "    \n",
    "    df_test['price_rank_pct'] = df_test.groupby('srch_id')['price_usd'].rank(pct=True)\n",
    "    \n",
    "    df_test['prop_country_rank_pct'] = df_test.groupby('prop_country_id')['prop_starrating'].rank(pct=True)\n",
    "    \n",
    "    df_test['star_rating_for_price'] = df_test['prop_starrating'] / np.log1p(df_test['price_per_night'])\n",
    "    \n",
    "    df_test['quality_price_ratio'] = (0.5 * (df_test['prop_starrating'] / 5) + \n",
    "                                      0.5 * (df_test['prop_review_score'] / 5)) / (df_test['price_normalized'] + 1e-10)\n",
    "    df_test['quality_price_ratio'] = df_test['quality_price_ratio'].fillna(df_test['quality_price_ratio'].median())\n",
    "    df_test['quality_price_ratio'] = df_test['quality_price_ratio'].replace([np.inf, -np.inf], \n",
    "                                                                             df_test['quality_price_ratio'].median())\n",
    "    \n",
    "    df_test['price_discount'] = 1 - (df_test['price_usd'] / np.exp(df_test['prop_log_historical_price']))\n",
    "\n",
    "print(f\"Test data shape: {df_test.shape}\")\n",
    "print(f\"Number of unique test searches: {df_test['srch_id'].nunique():,}\")"
   ],
   "outputs": [
    {
     "name": "stdout",
     "output_type": "stream",
     "text": [
      "Loading test data...\n",
      "Loaded feature engineered test dataset with shape: (3000000, 146)\n",
      "Test data shape: (3000000, 146)\n",
      "Number of unique test searches: 120,819\n"
     ]
    }
   ],
   "execution_count": 13
  },
  {
   "cell_type": "code",
   "metadata": {
    "ExecuteTime": {
     "end_time": "2025-05-23T12:33:01.638095Z",
     "start_time": "2025-05-23T12:32:59.976141Z"
    }
   },
   "source": [
    "# Prepare test features\n",
    "print(\"Preparing test features...\")\n",
    "\n",
    "missing_test_features = [f for f in model_features if f not in df_test.columns]\n",
    "if missing_test_features:\n",
    "    print(f\"Missing features in test data: {missing_test_features}\")\n",
    "    # Handle missing features (could create them or skip)\n",
    "    available_test_features = [f for f in model_features if f in df_test.columns]\n",
    "    print(f\"Using available features: {available_test_features}\")\n",
    "else:\n",
    "    available_test_features = model_features\n",
    "    print(\"All features available in test data.\")\n",
    "\n",
    "# Extract test features\n",
    "X_test = df_test[available_test_features].copy()\n",
    "\n",
    "# Handle missing values in test features\n",
    "for col in available_test_features:\n",
    "    if X_test[col].isnull().any():\n",
    "        # Use the median from training data\n",
    "        train_median = X[col].median()\n",
    "        X_test[col] = X_test[col].fillna(train_median)\n",
    "        print(f\"Filled {col} missing values with training median: {train_median}\")\n",
    "\n",
    "# Scale test features using the same scaler fitted on training data\n",
    "print(\"Scaling test features...\")\n",
    "X_test_scaled = scaler.transform(X_test)\n",
    "X_test_scaled = pd.DataFrame(X_test_scaled, columns=available_test_features, index=X_test.index)\n",
    "\n",
    "print(f\"Test feature matrix shape: {X_test_scaled.shape}\")"
   ],
   "outputs": [
    {
     "name": "stdout",
     "output_type": "stream",
     "text": [
      "Preparing test features...\n",
      "All features available in test data.\n",
      "Scaling test features...\n",
      "Test feature matrix shape: (3000000, 10)\n"
     ]
    }
   ],
   "execution_count": 14
  },
  {
   "cell_type": "markdown",
   "metadata": {},
   "source": [
    "## 9. Generate Predictions and Rankings"
   ]
  },
  {
   "cell_type": "code",
   "metadata": {
    "ExecuteTime": {
     "end_time": "2025-05-23T13:22:41.976170Z",
     "start_time": "2025-05-23T12:33:03.160753Z"
    }
   },
   "source": [
    "# Generate predictions for test data\n",
    "print(\"Generating predictions for test data...\")\n",
    "\n",
    "# Get search IDs for test data\n",
    "test_search_ids = df_test['srch_id']\n",
    "\n",
    "# Get rankings using the final model\n",
    "test_results = final_model.rank_within_searches(X_test_scaled, test_search_ids)\n",
    "\n",
    "# Add property IDs for submission\n",
    "test_results['prop_id'] = df_test['prop_id'].values\n",
    "\n",
    "print(f\"Generated predictions for {len(test_results):,} hotels in {test_search_ids.nunique():,} searches\")\n",
    "\n",
    "# Display sample of results\n",
    "print(\"\\nSample of test predictions:\")\n",
    "sample_search = test_search_ids.iloc[0]\n",
    "sample_results = test_results[test_results['search_id'] == sample_search].sort_values('rank')\n",
    "print(sample_results.head(10))"
   ],
   "outputs": [
    {
     "name": "stdout",
     "output_type": "stream",
     "text": [
      "Generating predictions for test data...\n",
      "Generated predictions for 3,000,000 hotels in 120,819 searches\n",
      "\n",
      "Sample of test predictions:\n",
      "    search_id  predicted_relevance    rank  prop_id\n",
      "1           1               0.4978  1.0000     5543\n",
      "4           1               0.4441  2.0000    24194\n",
      "23          1               0.3613  3.0000    99484\n",
      "9           1               0.2653  4.0000    54937\n",
      "13          1               0.1667  5.0000    63894\n",
      "6           1               0.1572  6.0000    34263\n",
      "20          1               0.1157  7.0000    90385\n",
      "12          1               0.0981  8.0000    61934\n",
      "18          1               0.0788  9.0000    82231\n",
      "7           1               0.0000 10.0000    37567\n"
     ]
    }
   ],
   "execution_count": 15
  },
  {
   "cell_type": "markdown",
   "metadata": {},
   "source": [
    "## 10. Create Submission File"
   ]
  },
  {
   "cell_type": "code",
   "metadata": {
    "ExecuteTime": {
     "end_time": "2025-05-23T13:22:45.079604Z",
     "start_time": "2025-05-23T13:22:42.324665Z"
    }
   },
   "source": [
    "# Create submission file in the required format\n",
    "print(\"Creating submission file...\")\n",
    "\n",
    "# Sort by search_id and rank to get the correct order\n",
    "submission_data = test_results.sort_values(['search_id', 'rank'])\n",
    "\n",
    "# Create submission dataframe\n",
    "submission = pd.DataFrame({\n",
    "    'srch_id': submission_data['search_id'],\n",
    "    'prop_id': submission_data['prop_id']\n",
    "})\n",
    "\n",
    "# Save submission file\n",
    "submission_filename = '../data/submission_knn_baseline.csv'\n",
    "submission.to_csv(submission_filename, index=False)\n",
    "\n",
    "print(f\"Submission file saved as '{submission_filename}'\")\n",
    "print(f\"Submission shape: {submission.shape}\")\n",
    "\n",
    "# Display first few rows of submission\n",
    "print(\"\\nFirst 10 rows of submission:\")\n",
    "print(submission.head(10))\n",
    "\n",
    "# Verify submission format\n",
    "print(\"\\nSubmission verification:\")\n",
    "print(f\"Number of unique searches: {submission['srch_id'].nunique():,}\")\n",
    "print(f\"Total hotel recommendations: {len(submission):,}\")\n",
    "print(f\"Average hotels per search: {len(submission) / submission['srch_id'].nunique():.1f}\")"
   ],
   "outputs": [
    {
     "name": "stdout",
     "output_type": "stream",
     "text": [
      "Creating submission file...\n",
      "Submission file saved as 'submission_knn_baseline.csv'\n",
      "Submission shape: (3000000, 2)\n",
      "\n",
      "First 10 rows of submission:\n",
      "    srch_id  prop_id\n",
      "1         1     5543\n",
      "4         1    24194\n",
      "23        1    99484\n",
      "9         1    54937\n",
      "13        1    63894\n",
      "6         1    34263\n",
      "20        1    90385\n",
      "12        1    61934\n",
      "18        1    82231\n",
      "0         1     3180\n",
      "\n",
      "Submission verification:\n",
      "Number of unique searches: 120,819\n",
      "Total hotel recommendations: 3,000,000\n",
      "Average hotels per search: 24.8\n"
     ]
    }
   ],
   "execution_count": 16
  },
  {
   "cell_type": "markdown",
   "metadata": {},
   "source": [
    "## 11. Model Summary and Analysis"
   ]
  },
  {
   "cell_type": "code",
   "metadata": {
    "ExecuteTime": {
     "end_time": "2025-05-23T13:22:45.304793Z",
     "start_time": "2025-05-23T13:22:45.219795Z"
    }
   },
   "source": [
    "# Summary of model performance and characteristics\n",
    "print(\"=\" * 60)\n",
    "print(\"KNN BASELINE MODEL SUMMARY\")\n",
    "print(\"=\" * 60)\n",
    "\n",
    "print(f\"\\nModel Configuration:\")\n",
    "print(f\"  Algorithm: K-Nearest Neighbors (KNN)\")\n",
    "print(f\"  Number of neighbors (K): {best_k}\")\n",
    "print(f\"  Distance metric: {final_model.metric}\")\n",
    "print(f\"  Weighting scheme: {final_model.weights}\")\n",
    "print(f\"  Feature scaling: StandardScaler\")\n",
    "\n",
    "print(f\"\\nTraining Data:\")\n",
    "print(f\"  Original dataset size: {len(df_train):,} rows\")\n",
    "print(f\"  Sample size used: {len(df_sample):,} rows ({SAMPLE_FRACTION*100}%)\")\n",
    "print(f\"  Number of searches: {df_sample['srch_id'].nunique():,}\")\n",
    "print(f\"  Number of features: {len(model_features)}\")\n",
    "\n",
    "print(f\"\\nFeatures Used:\")\n",
    "for i, feature in enumerate(model_features, 1):\n",
    "    correlation = feature_correlations.get(feature, 0)\n",
    "    print(f\"  {i:2d}. {feature:25s} (corr: {correlation:6.4f})\")\n",
    "\n",
    "print(f\"\\nCross-Validation Results:\")\n",
    "best_results = cv_results[best_k]\n",
    "print(f\"  NDCG@5: {best_results['mean_ndcg']:.4f} ± {best_results['std_ndcg']:.4f}\")\n",
    "print(f\"  Number of folds: {N_FOLDS}\")\n",
    "\n",
    "print(f\"\\nTest Predictions:\")\n",
    "print(f\"  Test dataset size: {len(df_test):,} rows\")\n",
    "print(f\"  Number of test searches: {df_test['srch_id'].nunique():,}\")\n",
    "print(f\"  Submission file: {submission_filename}\")\n",
    "\n",
    "print(f\"\\nModel Characteristics:\")\n",
    "print(f\"  - Uses hotel similarity based on property features\")\n",
    "print(f\"  - Distance-weighted voting from nearest neighbors\")\n",
    "print(f\"  - Handles ranking within each search query\")\n",
    "print(f\"  - Baseline approach for comparison with advanced models\")\n",
    "\n",
    "print(\"\\n\" + \"=\" * 60)"
   ],
   "outputs": [
    {
     "name": "stdout",
     "output_type": "stream",
     "text": [
      "============================================================\n",
      "KNN BASELINE MODEL SUMMARY\n",
      "============================================================\n",
      "\n",
      "Model Configuration:\n",
      "  Algorithm: K-Nearest Neighbors (KNN)\n",
      "  Number of neighbors (K): 10\n",
      "  Distance metric: euclidean\n",
      "  Weighting scheme: distance\n",
      "  Feature scaling: StandardScaler\n",
      "\n",
      "Training Data:\n",
      "  Original dataset size: 4,958,347 rows\n",
      "  Sample size used: 495,448 rows (10.0%)\n",
      "  Number of searches: 19,979\n",
      "  Number of features: 10\n",
      "\n",
      "Features Used:\n",
      "   1. prop_location_score2      (corr: 0.0689)\n",
      "   2. price_discount            (corr: 0.0001)\n",
      "   3. price_rank_pct            (corr: 0.0439)\n",
      "   4. prop_location_score1      (corr: 0.0008)\n",
      "   5. prop_country_rank_pct     (corr: 0.0288)\n",
      "   6. star_rating_for_price     (corr: 0.0217)\n",
      "   7. quality_price_ratio       (corr: 0.0092)\n",
      "   8. promotion_flag            (corr: 0.0387)\n",
      "   9. prop_review_score         (corr: 0.0238)\n",
      "  10. price_usd                 (corr: 0.0004)\n",
      "\n",
      "Cross-Validation Results:\n",
      "  NDCG@5: 0.2340 ± 0.0017\n",
      "  Number of folds: 3\n",
      "\n",
      "Test Predictions:\n",
      "  Test dataset size: 3,000,000 rows\n",
      "  Number of test searches: 120,819\n",
      "  Submission file: submission_knn_baseline.csv\n",
      "\n",
      "Model Characteristics:\n",
      "  - Uses hotel similarity based on property features\n",
      "  - Distance-weighted voting from nearest neighbors\n",
      "  - Handles ranking within each search query\n",
      "  - Baseline approach for comparison with advanced models\n",
      "\n",
      "============================================================\n"
     ]
    }
   ],
   "execution_count": 17
  },
  {
   "cell_type": "markdown",
   "metadata": {},
   "source": ""
  }
 ],
 "metadata": {
  "kernelspec": {
   "display_name": "Python 3",
   "language": "python",
   "name": "python3"
  },
  "language_info": {
   "codemirror_mode": {
    "name": "ipython",
    "version": 3
   },
   "file_extension": ".py",
   "mimetype": "text/x-python",
   "name": "python",
   "nbconvert_exporter": "python",
   "pygments_lexer": "ipython3",
   "version": "3.8.5"
  }
 },
 "nbformat": 4,
 "nbformat_minor": 4
}
