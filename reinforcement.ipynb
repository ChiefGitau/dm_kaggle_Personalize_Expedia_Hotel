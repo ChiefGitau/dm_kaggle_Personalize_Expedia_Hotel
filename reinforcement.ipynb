{
 "cells": [
  {
   "cell_type": "markdown",
   "metadata": {},
   "source": [
    "# Contextual Bandit Approach for Expedia Hotel Recommendations\n",
    "\n",
    "This notebook implements a contextual bandit approach for the Expedia Hotel Recommendation Kaggle competition. Contextual bandits are a form of reinforcement learning that balances exploration and exploitation to learn the best actions based on context.\n",
    "\n",
    "## Key Concepts in This Approach:\n",
    "\n",
    "1. **Context**: User characteristics and search parameters\n",
    "2. **Actions**: Hotel properties to recommend\n",
    "3. **Rewards**: User interactions (0 = no interaction, 1 = click, 2 = booking)\n",
    "4. **Exploration-Exploitation Trade-off**: Learning which hotels to recommend while also exploring new options\n",
    "\n",
    "This approach is well-suited for the hotel recommendation problem because:\n",
    "- It naturally handles the exploration-exploitation dilemma (suggesting familiar popular hotels vs. discovering new good matches)\n",
    "- It can adapt to different user preferences based on context\n",
    "- It optimizes for explicit rewards (clicks and bookings)"
   ]
  },
  {
   "cell_type": "code",
   "metadata": {
    "ExecuteTime": {
     "end_time": "2025-05-18T18:53:40.481962Z",
     "start_time": "2025-05-18T18:53:39.434447Z"
    }
   },
   "source": [
    "# Import necessary libraries\n",
    "import pandas as pd\n",
    "import numpy as np\n",
    "import matplotlib.pyplot as plt\n",
    "import seaborn as sns\n",
    "from sklearn.model_selection import GroupKFold\n",
    "import os\n",
    "import warnings\n",
    "warnings.filterwarnings('ignore')\n",
    "\n",
    "# Import our custom contextual bandit model\n",
    "import contextual_bandit_model as cb_model\n",
    "\n",
    "# Set plotting style\n",
    "sns.set_style(\"whitegrid\")\n",
    "plt.rcParams['figure.figsize'] = (12, 8)\n",
    "\n",
    "# Random state for reproducibility\n",
    "RANDOM_STATE = 42"
   ],
   "outputs": [],
   "execution_count": 1
  },
  {
   "cell_type": "markdown",
   "metadata": {},
   "source": [
    "## Configuration"
   ]
  },
  {
   "cell_type": "code",
   "metadata": {
    "ExecuteTime": {
     "end_time": "2025-05-18T18:53:40.494953Z",
     "start_time": "2025-05-18T18:53:40.490526Z"
    }
   },
   "source": [
    "# --- Configuration ---\n",
    "DATA_DIR = '../data/'\n",
    "TRAIN_FILE = os.path.join(DATA_DIR, 'training_set_VU_DM_imputed.csv')\n",
    "TEST_FILE = os.path.join(DATA_DIR, 'test_set_VU_DM_imputed.csv')\n",
    "SUBMISSION_FILENAME = 'submission_contextual_bandit.csv'\n",
    "\n",
    "SAMPLE_FRACTION = 0.1  # Use 10% of the data for faster runs during development\n",
    "N_FOLDS_CV = 5         # Number of folds for general cross-validation\n",
    "N_FOLDS_TUNING = 3     # Number of folds for Optuna trials (smaller for speed)\n",
    "N_OPTUNA_TRIALS = 20   # Number of Optuna trials"
   ],
   "outputs": [],
   "execution_count": 2
  },
  {
   "cell_type": "markdown",
   "metadata": {},
   "source": [
    "## 1. Load Data"
   ]
  },
  {
   "cell_type": "code",
   "metadata": {
    "ExecuteTime": {
     "end_time": "2025-05-18T18:54:03.300411Z",
     "start_time": "2025-05-18T18:53:40.741766Z"
    }
   },
   "source": [
    "print(\"Loading training data...\")\n",
    "try:\n",
    "    df_train_full = pd.read_csv(TRAIN_FILE)\n",
    "    print(f\"Loaded {len(df_train_full):,} rows with {len(df_train_full.columns)} columns\")\n",
    "except FileNotFoundError:\n",
    "    print(f\"ERROR: Training file not found at {TRAIN_FILE}\")\n",
    "    df_train_full = None\n",
    "except Exception as e:\n",
    "    print(f\"Error loading training data: {e}\")\n",
    "    df_train_full = None\n",
    "\n",
    "# Display first few rows\n",
    "if df_train_full is not None:\n",
    "    display(df_train_full.head())"
   ],
   "outputs": [
    {
     "name": "stdout",
     "output_type": "stream",
     "text": [
      "Loading training data...\n",
      "Loaded 4,958,347 rows with 54 columns\n"
     ]
    },
    {
     "data": {
      "text/plain": [
       "   srch_id            date_time  site_id  visitor_location_country_id  \\\n",
       "0        1  2013-04-04 08:32:15       12                          187   \n",
       "1        1  2013-04-04 08:32:15       12                          187   \n",
       "2        1  2013-04-04 08:32:15       12                          187   \n",
       "3        1  2013-04-04 08:32:15       12                          187   \n",
       "4        1  2013-04-04 08:32:15       12                          187   \n",
       "\n",
       "   visitor_hist_starrating  visitor_hist_adr_usd  prop_country_id  prop_id  \\\n",
       "0                      NaN                   NaN              219      893   \n",
       "1                      NaN                   NaN              219    10404   \n",
       "2                      NaN                   NaN              219    21315   \n",
       "3                      NaN                   NaN              219    27348   \n",
       "4                      NaN                   NaN              219    29604   \n",
       "\n",
       "   prop_starrating  prop_review_score  ...  comp6_rate_percent_diff  \\\n",
       "0                3                3.5  ...                      NaN   \n",
       "1                4                4.0  ...                      NaN   \n",
       "2                3                4.5  ...                      NaN   \n",
       "3                2                4.0  ...                      NaN   \n",
       "4                4                3.5  ...                      NaN   \n",
       "\n",
       "   comp7_rate  comp7_inv  comp7_rate_percent_diff  comp8_rate  comp8_inv  \\\n",
       "0         NaN        NaN                      NaN         0.0        0.0   \n",
       "1         NaN        NaN                      NaN         0.0        0.0   \n",
       "2         NaN        NaN                      NaN         0.0        0.0   \n",
       "3         NaN        NaN                      NaN        -1.0        0.0   \n",
       "4         NaN        NaN                      NaN         0.0        0.0   \n",
       "\n",
       "   comp8_rate_percent_diff  click_bool  gross_bookings_usd  booking_bool  \n",
       "0                      NaN           0                 NaN             0  \n",
       "1                      NaN           0                 NaN             0  \n",
       "2                      NaN           0                 NaN             0  \n",
       "3                      5.0           0                 NaN             0  \n",
       "4                      NaN           0                 NaN             0  \n",
       "\n",
       "[5 rows x 54 columns]"
      ],
      "text/html": [
       "<div>\n",
       "<style scoped>\n",
       "    .dataframe tbody tr th:only-of-type {\n",
       "        vertical-align: middle;\n",
       "    }\n",
       "\n",
       "    .dataframe tbody tr th {\n",
       "        vertical-align: top;\n",
       "    }\n",
       "\n",
       "    .dataframe thead th {\n",
       "        text-align: right;\n",
       "    }\n",
       "</style>\n",
       "<table border=\"1\" class=\"dataframe\">\n",
       "  <thead>\n",
       "    <tr style=\"text-align: right;\">\n",
       "      <th></th>\n",
       "      <th>srch_id</th>\n",
       "      <th>date_time</th>\n",
       "      <th>site_id</th>\n",
       "      <th>visitor_location_country_id</th>\n",
       "      <th>visitor_hist_starrating</th>\n",
       "      <th>visitor_hist_adr_usd</th>\n",
       "      <th>prop_country_id</th>\n",
       "      <th>prop_id</th>\n",
       "      <th>prop_starrating</th>\n",
       "      <th>prop_review_score</th>\n",
       "      <th>...</th>\n",
       "      <th>comp6_rate_percent_diff</th>\n",
       "      <th>comp7_rate</th>\n",
       "      <th>comp7_inv</th>\n",
       "      <th>comp7_rate_percent_diff</th>\n",
       "      <th>comp8_rate</th>\n",
       "      <th>comp8_inv</th>\n",
       "      <th>comp8_rate_percent_diff</th>\n",
       "      <th>click_bool</th>\n",
       "      <th>gross_bookings_usd</th>\n",
       "      <th>booking_bool</th>\n",
       "    </tr>\n",
       "  </thead>\n",
       "  <tbody>\n",
       "    <tr>\n",
       "      <th>0</th>\n",
       "      <td>1</td>\n",
       "      <td>2013-04-04 08:32:15</td>\n",
       "      <td>12</td>\n",
       "      <td>187</td>\n",
       "      <td>NaN</td>\n",
       "      <td>NaN</td>\n",
       "      <td>219</td>\n",
       "      <td>893</td>\n",
       "      <td>3</td>\n",
       "      <td>3.5</td>\n",
       "      <td>...</td>\n",
       "      <td>NaN</td>\n",
       "      <td>NaN</td>\n",
       "      <td>NaN</td>\n",
       "      <td>NaN</td>\n",
       "      <td>0.0</td>\n",
       "      <td>0.0</td>\n",
       "      <td>NaN</td>\n",
       "      <td>0</td>\n",
       "      <td>NaN</td>\n",
       "      <td>0</td>\n",
       "    </tr>\n",
       "    <tr>\n",
       "      <th>1</th>\n",
       "      <td>1</td>\n",
       "      <td>2013-04-04 08:32:15</td>\n",
       "      <td>12</td>\n",
       "      <td>187</td>\n",
       "      <td>NaN</td>\n",
       "      <td>NaN</td>\n",
       "      <td>219</td>\n",
       "      <td>10404</td>\n",
       "      <td>4</td>\n",
       "      <td>4.0</td>\n",
       "      <td>...</td>\n",
       "      <td>NaN</td>\n",
       "      <td>NaN</td>\n",
       "      <td>NaN</td>\n",
       "      <td>NaN</td>\n",
       "      <td>0.0</td>\n",
       "      <td>0.0</td>\n",
       "      <td>NaN</td>\n",
       "      <td>0</td>\n",
       "      <td>NaN</td>\n",
       "      <td>0</td>\n",
       "    </tr>\n",
       "    <tr>\n",
       "      <th>2</th>\n",
       "      <td>1</td>\n",
       "      <td>2013-04-04 08:32:15</td>\n",
       "      <td>12</td>\n",
       "      <td>187</td>\n",
       "      <td>NaN</td>\n",
       "      <td>NaN</td>\n",
       "      <td>219</td>\n",
       "      <td>21315</td>\n",
       "      <td>3</td>\n",
       "      <td>4.5</td>\n",
       "      <td>...</td>\n",
       "      <td>NaN</td>\n",
       "      <td>NaN</td>\n",
       "      <td>NaN</td>\n",
       "      <td>NaN</td>\n",
       "      <td>0.0</td>\n",
       "      <td>0.0</td>\n",
       "      <td>NaN</td>\n",
       "      <td>0</td>\n",
       "      <td>NaN</td>\n",
       "      <td>0</td>\n",
       "    </tr>\n",
       "    <tr>\n",
       "      <th>3</th>\n",
       "      <td>1</td>\n",
       "      <td>2013-04-04 08:32:15</td>\n",
       "      <td>12</td>\n",
       "      <td>187</td>\n",
       "      <td>NaN</td>\n",
       "      <td>NaN</td>\n",
       "      <td>219</td>\n",
       "      <td>27348</td>\n",
       "      <td>2</td>\n",
       "      <td>4.0</td>\n",
       "      <td>...</td>\n",
       "      <td>NaN</td>\n",
       "      <td>NaN</td>\n",
       "      <td>NaN</td>\n",
       "      <td>NaN</td>\n",
       "      <td>-1.0</td>\n",
       "      <td>0.0</td>\n",
       "      <td>5.0</td>\n",
       "      <td>0</td>\n",
       "      <td>NaN</td>\n",
       "      <td>0</td>\n",
       "    </tr>\n",
       "    <tr>\n",
       "      <th>4</th>\n",
       "      <td>1</td>\n",
       "      <td>2013-04-04 08:32:15</td>\n",
       "      <td>12</td>\n",
       "      <td>187</td>\n",
       "      <td>NaN</td>\n",
       "      <td>NaN</td>\n",
       "      <td>219</td>\n",
       "      <td>29604</td>\n",
       "      <td>4</td>\n",
       "      <td>3.5</td>\n",
       "      <td>...</td>\n",
       "      <td>NaN</td>\n",
       "      <td>NaN</td>\n",
       "      <td>NaN</td>\n",
       "      <td>NaN</td>\n",
       "      <td>0.0</td>\n",
       "      <td>0.0</td>\n",
       "      <td>NaN</td>\n",
       "      <td>0</td>\n",
       "      <td>NaN</td>\n",
       "      <td>0</td>\n",
       "    </tr>\n",
       "  </tbody>\n",
       "</table>\n",
       "<p>5 rows × 54 columns</p>\n",
       "</div>"
      ]
     },
     "metadata": {},
     "output_type": "display_data"
    }
   ],
   "execution_count": 3
  },
  {
   "cell_type": "markdown",
   "metadata": {},
   "source": [
    "## 2. Create Relevance Score\n",
    "\n",
    "For contextual bandits, we'll use the same relevance scoring as in the main notebook:\n",
    "- 0 = no interaction (low reward)\n",
    "- 1 = click (medium reward)\n",
    "- 2 = booking (high reward)"
   ]
  },
  {
   "cell_type": "code",
   "metadata": {
    "ExecuteTime": {
     "end_time": "2025-05-18T18:54:09.952831Z",
     "start_time": "2025-05-18T18:54:03.449348Z"
    }
   },
   "source": [
    "if df_train_full is not None:\n",
    "    print(\"\\nCreating relevance score...\")\n",
    "    df_train_full['relevance'] = 0\n",
    "    df_train_full.loc[df_train_full['click_bool'] == 1, 'relevance'] = 1\n",
    "    df_train_full.loc[df_train_full['booking_bool'] == 1, 'relevance'] = 2  # Map to 0, 1, 2 for rewards\n",
    "    print(\"Relevance score distribution:\")\n",
    "    print(df_train_full['relevance'].value_counts())\n",
    "    \n",
    "    # Visualize the distribution\n",
    "    plt.figure(figsize=(10, 6))\n",
    "    sns.countplot(x='relevance', data=df_train_full)\n",
    "    plt.title('Distribution of Relevance Scores')\n",
    "    plt.xlabel('Relevance Score (0=no interaction, 1=click, 2=booking)')\n",
    "    plt.ylabel('Count')\n",
    "    plt.yscale('log')  # Log scale for better visualization\n",
    "    plt.tight_layout()\n",
    "    plt.show()\n",
    "else:\n",
    "    print(\"Skipping relevance score creation as df_train_full is None.\")"
   ],
   "outputs": [
    {
     "name": "stdout",
     "output_type": "stream",
     "text": [
      "\n",
      "Creating relevance score...\n",
      "Relevance score distribution:\n",
      "relevance\n",
      "0    4736468\n",
      "2     138390\n",
      "1      83489\n",
      "Name: count, dtype: int64\n"
     ]
    },
    {
     "data": {
      "text/plain": [
       "<Figure size 1000x600 with 1 Axes>"
      ],
      "image/png": "[encoded data removed]"
     },
     "metadata": {},
     "output_type": "display_data"
    }
   ],
   "execution_count": 4
  },
  {
   "cell_type": "markdown",
   "metadata": {},
   "source": [
    "## 3. Data Sampling (Group-aware)"
   ]
  },
  {
   "cell_type": "code",
   "metadata": {
    "ExecuteTime": {
     "end_time": "2025-05-18T18:54:11.548961Z",
     "start_time": "2025-05-18T18:54:09.989077Z"
    }
   },
   "source": [
    "df_sample = None\n",
    "if df_train_full is not None:\n",
    "    print(f\"\\nSampling {SAMPLE_FRACTION*100}% of the data based on srch_id...\")\n",
    "    unique_srch_ids = df_train_full['srch_id'].unique()\n",
    "    if len(unique_srch_ids) > 0:\n",
    "        np.random.seed(RANDOM_STATE)\n",
    "        sampled_srch_ids_count = int(len(unique_srch_ids) * SAMPLE_FRACTION)\n",
    "        if sampled_srch_ids_count > 0:\n",
    "            sampled_srch_ids = np.random.choice(unique_srch_ids, size=sampled_srch_ids_count, replace=False)\n",
    "            df_sample = df_train_full[df_train_full['srch_id'].isin(sampled_srch_ids)].copy()\n",
    "            print(f\"Sampled data shape: {df_sample.shape}\")\n",
    "        else:\n",
    "            print(\"Sample fraction resulted in zero search IDs. Check SAMPLE_FRACTION or dataset size.\")\n",
    "            df_sample = df_train_full.copy()  # Fallback to full if sample is too small\n",
    "            print(f\"Using full dataset instead. Shape: {df_sample.shape}\")\n",
    "    else:\n",
    "        print(\"No unique search IDs found in the training data.\")\n",
    "    del df_train_full  # Free up memory\n",
    "else:\n",
    "    print(\"Skipping sampling as df_train_full is None.\")"
   ],
   "outputs": [
    {
     "name": "stdout",
     "output_type": "stream",
     "text": [
      "\n",
      "Sampling 10.0% of the data based on srch_id...\n",
      "Sampled data shape: (495053, 55)\n"
     ]
    }
   ],
   "execution_count": 5
  },
  {
   "cell_type": "markdown",
   "metadata": {},
   "source": [
    "### Analyze sample data"
   ]
  },
  {
   "cell_type": "code",
   "metadata": {
    "ExecuteTime": {
     "end_time": "2025-05-18T18:54:11.629659Z",
     "start_time": "2025-05-18T18:54:11.561496Z"
    }
   },
   "source": [
    "if df_sample is not None:\n",
    "    # Number of search IDs and their properties\n",
    "    num_searches = df_sample['srch_id'].nunique()\n",
    "    avg_props_per_search = df_sample.groupby('srch_id').size().mean()\n",
    "    \n",
    "    print(f\"Number of unique searches: {num_searches:,}\")\n",
    "    print(f\"Average properties per search: {avg_props_per_search:.2f}\")\n",
    "    \n",
    "    # Distribution of rewards\n",
    "    relevance_dist = df_sample['relevance'].value_counts(normalize=True) * 100\n",
    "    print(\"\\nRelevance distribution (%):\\n\", relevance_dist)\n",
    "    \n",
    "    # Check for missing values in key columns\n",
    "    print(\"\\nMissing values in key columns:\")\n",
    "    missing_vals = df_sample[['prop_starrating', 'prop_review_score', 'price_usd', \n",
    "                              'prop_location_score1', 'prop_location_score2']].isnull().sum()\n",
    "    print(missing_vals[missing_vals > 0])"
   ],
   "outputs": [
    {
     "name": "stdout",
     "output_type": "stream",
     "text": [
      "Number of unique searches: 19,979\n",
      "Average properties per search: 24.78\n",
      "\n",
      "Relevance distribution (%):\n",
      " relevance\n",
      "0    95.516440\n",
      "2     2.768188\n",
      "1     1.715372\n",
      "Name: proportion, dtype: float64\n",
      "\n",
      "Missing values in key columns:\n",
      "Series([], dtype: int64)\n"
     ]
    }
   ],
   "execution_count": 6
  },
  {
   "cell_type": "markdown",
   "metadata": {},
   "source": [
    "## 4. Initial Feature Selection & Preparation"
   ]
  },
  {
   "cell_type": "code",
   "metadata": {
    "ExecuteTime": {
     "end_time": "2025-05-18T18:54:11.768723Z",
     "start_time": "2025-05-18T18:54:11.652604Z"
    }
   },
   "source": [
    "X = None\n",
    "y = None\n",
    "groups_for_splitting = None\n",
    "feature_columns = []\n",
    "\n",
    "if df_sample is not None:\n",
    "    print(\"\\nDefining initial feature set and preparing X, y, groups...\")\n",
    "    \n",
    "    # Define contextual features (about the user/search)\n",
    "    context_features = [\n",
    "        'visitor_location_country_id',\n",
    "        'srch_destination_id',\n",
    "        'srch_length_of_stay',\n",
    "        'srch_booking_window',\n",
    "        'srch_adults_count',\n",
    "        'srch_children_count',\n",
    "        'srch_room_count',\n",
    "        'srch_saturday_night_bool',\n",
    "    ]\n",
    "    \n",
    "    # Define action features (about the hotel)\n",
    "    action_features = [\n",
    "        'prop_country_id',\n",
    "        'prop_starrating',\n",
    "        'prop_review_score',\n",
    "        'prop_brand_bool',\n",
    "        'prop_location_score1',\n",
    "        'prop_location_score2',\n",
    "        'prop_log_historical_price',\n",
    "        'price_usd',\n",
    "        'promotion_flag',\n",
    "        'orig_destination_distance'\n",
    "    ]\n",
    "    \n",
    "    # Combine all features\n",
    "    feature_columns = context_features + action_features\n",
    "    \n",
    "    # Ensure all selected feature columns exist in df_sample\n",
    "    existing_feature_columns = [col for col in feature_columns if col in df_sample.columns]\n",
    "    if len(existing_feature_columns) != len(feature_columns):\n",
    "        print(f\"Warning: Some feature columns not found. Using: {existing_feature_columns}\")\n",
    "    feature_columns = existing_feature_columns\n",
    "    \n",
    "    if not feature_columns:\n",
    "        print(\"Error: No feature columns selected or available. Stopping.\")\n",
    "    else:\n",
    "        X = df_sample[feature_columns].copy()\n",
    "        y = df_sample['relevance'].copy()\n",
    "        groups_for_splitting = df_sample['srch_id']  # Used by GroupKFold for splitting\n",
    "        \n",
    "        # Check if any imputation is needed\n",
    "        missing_count = X.isnull().sum().sum()\n",
    "        if missing_count > 0:\n",
    "            print(f\"Found {missing_count} missing values across all features. Performing imputation...\")\n",
    "            # For numerical features, impute with median\n",
    "            for col in X.columns:\n",
    "                if X[col].isnull().any():\n",
    "                    if pd.api.types.is_numeric_dtype(X[col]):\n",
    "                        median_val = X[col].median()\n",
    "                        X[col].fillna(median_val, inplace=True)\n",
    "                        print(f\"Imputed NaNs in '{col}' with median: {median_val}\")\n",
    "                    else:\n",
    "                        # For categorical features, impute with mode\n",
    "                        mode_val = X[col].mode()[0]\n",
    "                        X[col].fillna(mode_val, inplace=True)\n",
    "                        print(f\"Imputed NaNs in '{col}' with mode: {mode_val}\")\n",
    "        \n",
    "        print(f\"Selected {len(feature_columns)} features: {feature_columns}\")\n",
    "        print(f\"Shape of X: {X.shape}, Shape of y: {y.shape}\")\n",
    "        print(f\"NaNs remaining in X after imputation: {X.isnull().sum().sum()}\")\n",
    "        if groups_for_splitting is not None:\n",
    "            print(f\"Number of unique groups for splitting: {groups_for_splitting.nunique()}\")\n",
    "else:\n",
    "    print(\"Skipping feature selection as df_sample is None.\")\n",
    "\n",
    "# Display X's head to verify\n",
    "if X is not None:\n",
    "    display(X.head())"
   ],
   "outputs": [
    {
     "name": "stdout",
     "output_type": "stream",
     "text": [
      "\n",
      "Defining initial feature set and preparing X, y, groups...\n",
      "Selected 18 features: ['visitor_location_country_id', 'srch_destination_id', 'srch_length_of_stay', 'srch_booking_window', 'srch_adults_count', 'srch_children_count', 'srch_room_count', 'srch_saturday_night_bool', 'prop_country_id', 'prop_starrating', 'prop_review_score', 'prop_brand_bool', 'prop_location_score1', 'prop_location_score2', 'prop_log_historical_price', 'price_usd', 'promotion_flag', 'orig_destination_distance']\n",
      "Shape of X: (495053, 18), Shape of y: (495053,)\n",
      "NaNs remaining in X after imputation: 0\n",
      "Number of unique groups for splitting: 19979\n"
     ]
    },
    {
     "data": {
      "text/plain": [
       "    visitor_location_country_id  srch_destination_id  srch_length_of_stay  \\\n",
       "86                          219                12610                    1   \n",
       "87                          219                12610                    1   \n",
       "88                          219                12610                    1   \n",
       "89                          219                12610                    1   \n",
       "90                          219                12610                    1   \n",
       "\n",
       "    srch_booking_window  srch_adults_count  srch_children_count  \\\n",
       "86                   39                  2                    0   \n",
       "87                   39                  2                    0   \n",
       "88                   39                  2                    0   \n",
       "89                   39                  2                    0   \n",
       "90                   39                  2                    0   \n",
       "\n",
       "    srch_room_count  srch_saturday_night_bool  prop_country_id  \\\n",
       "86                1                         1              219   \n",
       "87                1                         1              219   \n",
       "88                1                         1              219   \n",
       "89                1                         1              219   \n",
       "90                1                         1              219   \n",
       "\n",
       "    prop_starrating  prop_review_score  prop_brand_bool  prop_location_score1  \\\n",
       "86                2                4.0                1                  2.30   \n",
       "87                3                4.5                1                  1.95   \n",
       "88                2                3.0                1                  1.61   \n",
       "89                2                3.5                1                  1.39   \n",
       "90                2                3.5                1                  2.20   \n",
       "\n",
       "    prop_location_score2  prop_log_historical_price  price_usd  \\\n",
       "86              0.127639                       3.91       47.0   \n",
       "87              0.063450                       5.17       84.0   \n",
       "88              0.127639                       4.10       50.0   \n",
       "89              0.127639                       4.37       60.0   \n",
       "90              0.127639                       4.11       45.0   \n",
       "\n",
       "    promotion_flag  orig_destination_distance  \n",
       "86               0                     284.56  \n",
       "87               0                     288.12  \n",
       "88               0                     275.55  \n",
       "89               0                     275.42  \n",
       "90               0                     284.67  "
      ],
      "text/html": [
       "<div>\n",
       "<style scoped>\n",
       "    .dataframe tbody tr th:only-of-type {\n",
       "        vertical-align: middle;\n",
       "    }\n",
       "\n",
       "    .dataframe tbody tr th {\n",
       "        vertical-align: top;\n",
       "    }\n",
       "\n",
       "    .dataframe thead th {\n",
       "        text-align: right;\n",
       "    }\n",
       "</style>\n",
       "<table border=\"1\" class=\"dataframe\">\n",
       "  <thead>\n",
       "    <tr style=\"text-align: right;\">\n",
       "      <th></th>\n",
       "      <th>visitor_location_country_id</th>\n",
       "      <th>srch_destination_id</th>\n",
       "      <th>srch_length_of_stay</th>\n",
       "      <th>srch_booking_window</th>\n",
       "      <th>srch_adults_count</th>\n",
       "      <th>srch_children_count</th>\n",
       "      <th>srch_room_count</th>\n",
       "      <th>srch_saturday_night_bool</th>\n",
       "      <th>prop_country_id</th>\n",
       "      <th>prop_starrating</th>\n",
       "      <th>prop_review_score</th>\n",
       "      <th>prop_brand_bool</th>\n",
       "      <th>prop_location_score1</th>\n",
       "      <th>prop_location_score2</th>\n",
       "      <th>prop_log_historical_price</th>\n",
       "      <th>price_usd</th>\n",
       "      <th>promotion_flag</th>\n",
       "      <th>orig_destination_distance</th>\n",
       "    </tr>\n",
       "  </thead>\n",
       "  <tbody>\n",
       "    <tr>\n",
       "      <th>86</th>\n",
       "      <td>219</td>\n",
       "      <td>12610</td>\n",
       "      <td>1</td>\n",
       "      <td>39</td>\n",
       "      <td>2</td>\n",
       "      <td>0</td>\n",
       "      <td>1</td>\n",
       "      <td>1</td>\n",
       "      <td>219</td>\n",
       "      <td>2</td>\n",
       "      <td>4.0</td>\n",
       "      <td>1</td>\n",
       "      <td>2.30</td>\n",
       "      <td>0.127639</td>\n",
       "      <td>3.91</td>\n",
       "      <td>47.0</td>\n",
       "      <td>0</td>\n",
       "      <td>284.56</td>\n",
       "    </tr>\n",
       "    <tr>\n",
       "      <th>87</th>\n",
       "      <td>219</td>\n",
       "      <td>12610</td>\n",
       "      <td>1</td>\n",
       "      <td>39</td>\n",
       "      <td>2</td>\n",
       "      <td>0</td>\n",
       "      <td>1</td>\n",
       "      <td>1</td>\n",
       "      <td>219</td>\n",
       "      <td>3</td>\n",
       "      <td>4.5</td>\n",
       "      <td>1</td>\n",
       "      <td>1.95</td>\n",
       "      <td>0.063450</td>\n",
       "      <td>5.17</td>\n",
       "      <td>84.0</td>\n",
       "      <td>0</td>\n",
       "      <td>288.12</td>\n",
       "    </tr>\n",
       "    <tr>\n",
       "      <th>88</th>\n",
       "      <td>219</td>\n",
       "      <td>12610</td>\n",
       "      <td>1</td>\n",
       "      <td>39</td>\n",
       "      <td>2</td>\n",
       "      <td>0</td>\n",
       "      <td>1</td>\n",
       "      <td>1</td>\n",
       "      <td>219</td>\n",
       "      <td>2</td>\n",
       "      <td>3.0</td>\n",
       "      <td>1</td>\n",
       "      <td>1.61</td>\n",
       "      <td>0.127639</td>\n",
       "      <td>4.10</td>\n",
       "      <td>50.0</td>\n",
       "      <td>0</td>\n",
       "      <td>275.55</td>\n",
       "    </tr>\n",
       "    <tr>\n",
       "      <th>89</th>\n",
       "      <td>219</td>\n",
       "      <td>12610</td>\n",
       "      <td>1</td>\n",
       "      <td>39</td>\n",
       "      <td>2</td>\n",
       "      <td>0</td>\n",
       "      <td>1</td>\n",
       "      <td>1</td>\n",
       "      <td>219</td>\n",
       "      <td>2</td>\n",
       "      <td>3.5</td>\n",
       "      <td>1</td>\n",
       "      <td>1.39</td>\n",
       "      <td>0.127639</td>\n",
       "      <td>4.37</td>\n",
       "      <td>60.0</td>\n",
       "      <td>0</td>\n",
       "      <td>275.42</td>\n",
       "    </tr>\n",
       "    <tr>\n",
       "      <th>90</th>\n",
       "      <td>219</td>\n",
       "      <td>12610</td>\n",
       "      <td>1</td>\n",
       "      <td>39</td>\n",
       "      <td>2</td>\n",
       "      <td>0</td>\n",
       "      <td>1</td>\n",
       "      <td>1</td>\n",
       "      <td>219</td>\n",
       "      <td>2</td>\n",
       "      <td>3.5</td>\n",
       "      <td>1</td>\n",
       "      <td>2.20</td>\n",
       "      <td>0.127639</td>\n",
       "      <td>4.11</td>\n",
       "      <td>45.0</td>\n",
       "      <td>0</td>\n",
       "      <td>284.67</td>\n",
       "    </tr>\n",
       "  </tbody>\n",
       "</table>\n",
       "</div>"
      ]
     },
     "metadata": {},
     "output_type": "display_data"
    }
   ],
   "execution_count": 7
  },
  {
   "cell_type": "markdown",
   "metadata": {},
   "source": [
    "## 5. Cross-Validation\n",
    "\n",
    "Using our contextual bandit model's cross-validation function to evaluate performance:"
   ]
  },
  {
   "cell_type": "code",
   "metadata": {
    "ExecuteTime": {
     "end_time": "2025-05-18T19:25:16.481379Z",
     "start_time": "2025-05-18T18:54:11.805708Z"
    }
   },
   "source": [
    "mean_cv_ndcg = 0\n",
    "std_cv_ndcg = 0\n",
    "\n",
    "if X is not None and y is not None and groups_for_splitting is not None and df_sample is not None:\n",
    "    # Initial contextual bandit parameters\n",
    "    initial_cb_params = {\n",
    "        'alpha': 0.2,  # Exploration parameter\n",
    "        'exploration_strategy': 'ucb',  # Upper Confidence Bound\n",
    "        'base_algorithm': 'rf',  # Random Forest\n",
    "        'n_estimators': 100,\n",
    "        'max_depth': 5\n",
    "    }\n",
    "    \n",
    "    print(f\"\\n--- Performing {N_FOLDS_CV}-Fold Cross-Validation using contextual bandit model ---\")\n",
    "    mean_cv_ndcg, std_cv_ndcg, _ = cb_model.perform_cross_validation(\n",
    "        X, y, \n",
    "        groups_for_splitting=groups_for_splitting,\n",
    "        df_full_for_group_counts=df_sample,\n",
    "        n_folds=N_FOLDS_CV,\n",
    "        cb_params=initial_cb_params\n",
    "    )\n",
    "    \n",
    "    print(f\"\\nCross-Validation Mean NDCG@5: {mean_cv_ndcg:.4f} +/- {std_cv_ndcg:.4f}\")\n",
    "else:\n",
    "    print(\"\\nSkipping Cross-Validation due to missing X, y, groups_for_splitting, or df_sample.\")"
   ],
   "outputs": [
    {
     "name": "stdout",
     "output_type": "stream",
     "text": [
      "\n",
      "--- Performing 5-Fold Cross-Validation using contextual bandit model ---\n",
      "\n",
      "--- Performing 5-Fold Cross-Validation ---\n",
      "--- Fold 1/5 ---\n",
      "Fold 1 NDCG@5: 0.1653\n",
      "--- Fold 2/5 ---\n",
      "Fold 2 NDCG@5: 0.1379\n",
      "--- Fold 3/5 ---\n",
      "Fold 3 NDCG@5: 0.2320\n",
      "--- Fold 4/5 ---\n",
      "Fold 4 NDCG@5: 0.1376\n",
      "--- Fold 5/5 ---\n",
      "Fold 5 NDCG@5: 0.1958\n",
      "Mean NDCG@5 across 5 folds: 0.1737 +/- 0.0362\n",
      "\n",
      "Cross-Validation Mean NDCG@5: 0.1737 +/- 0.0362\n"
     ]
    }
   ],
   "execution_count": 8
  },
  {
   "cell_type": "markdown",
   "metadata": {},
   "source": [
    "## 6. Hyperparameter Tuning with Optuna"
   ]
  },
  {
   "cell_type": "code",
   "metadata": {
    "jupyter": {
     "is_executing": true
    },
    "ExecuteTime": {
     "start_time": "2025-05-18T19:25:16.555723Z"
    }
   },
   "source": [
    "best_params_from_tuning = {}\n",
    "\n",
    "if X is not None and y is not None and groups_for_splitting is not None and df_sample is not None:\n",
    "    print(f\"\\n--- Tuning Hyperparameters with Optuna ({N_OPTUNA_TRIALS} trials, {N_FOLDS_TUNING} CV folds each) ---\")\n",
    "    \n",
    "    # Suppress warnings during tuning\n",
    "    import warnings\n",
    "    warnings.filterwarnings('ignore')\n",
    "    \n",
    "    best_params_from_tuning = cb_model.tune_hyperparameters_optuna(\n",
    "        X, \n",
    "        y, \n",
    "        groups_for_splitting=groups_for_splitting,\n",
    "        df_full_for_group_counts=df_sample,\n",
    "        n_trials=N_OPTUNA_TRIALS, \n",
    "        n_cv_folds=N_FOLDS_TUNING\n",
    "    )\n",
    "    \n",
    "    if best_params_from_tuning:\n",
    "        print(\"\\nBest parameters found by Optuna:\")\n",
    "        for key, value in best_params_from_tuning.items():\n",
    "            print(f\"    {key}: {value}\")\n",
    "    else:\n",
    "        print(\"\\nOptuna tuning did not return parameters. Using default parameters for the final model evaluation.\")\n",
    "        # Fallback to default parameters if tuning fails\n",
    "        best_params_from_tuning = { \n",
    "            'alpha': 0.2,\n",
    "            'exploration_strategy': 'ucb',\n",
    "            'base_algorithm': 'rf',\n",
    "            'n_estimators': 100,\n",
    "            'max_depth': 5\n",
    "        } \n",
    "else:\n",
    "    print(\"\\nSkipping Hyperparameter Tuning due to missing X, y, groups_for_splitting, or df_sample.\")\n",
    "    # Fallback parameters if tuning is skipped\n",
    "    best_params_from_tuning = { \n",
    "        'alpha': 0.2,\n",
    "        'exploration_strategy': 'ucb',\n",
    "        'base_algorithm': 'rf',\n",
    "        'n_estimators': 100,\n",
    "        'max_depth': 5\n",
    "    }\n",
    "\n",
    "# Reset warnings to default behavior\n",
    "warnings.resetwarnings()"
   ],
   "outputs": [
    {
     "name": "stderr",
     "output_type": "stream",
     "text": [
      "[I 2025-05-18 21:25:16,562] A new study created in memory with name: contextual_bandit_tuning\n"
     ]
    },
    {
     "name": "stdout",
     "output_type": "stream",
     "text": [
      "\n",
      "--- Tuning Hyperparameters with Optuna (20 trials, 3 CV folds each) ---\n",
      "\n",
      "--- Tuning Hyperparameters with Optuna (20 trials, 3 CV folds each) ---\n"
     ]
    },
    {
     "name": "stderr",
     "output_type": "stream",
     "text": [
      "[I 2025-05-18 21:42:16,604] Trial 0 finished with value: 0.1883948992552457 and parameters: {'alpha': 0.18163973165035666, 'exploration_strategy': 'ucb', 'base_algorithm': 'rf', 'n_estimators': 50, 'max_depth': 5, 'learning_rate': 0.0925627096360164}. Best is trial 0 with value: 0.1883948992552457.\n",
      "[I 2025-05-18 21:54:01,385] Trial 1 finished with value: 0.18326674213472305 and parameters: {'alpha': 0.02878690497566182, 'exploration_strategy': 'ucb', 'base_algorithm': 'linear', 'n_estimators': 150, 'max_depth': 8}. Best is trial 0 with value: 0.1883948992552457.\n"
     ]
    }
   ],
   "execution_count": null
  },
  {
   "cell_type": "markdown",
   "metadata": {},
   "source": [
    "## 7. Train Final Model"
   ]
  },
  {
   "cell_type": "code",
   "metadata": {
    "ExecuteTime": {
     "end_time": "2025-05-18T18:49:57.329224Z",
     "start_time": "2025-05-18T18:47:15.362085Z"
    }
   },
   "source": [
    "final_trained_model = None\n",
    "\n",
    "if X is not None and y is not None and groups_for_splitting is not None and df_sample is not None and best_params_from_tuning:\n",
    "    print(\"\\n--- Training Final Model with Best Tuned Parameters ---\")\n",
    "    \n",
    "    # Train the final model\n",
    "    final_trained_model = cb_model.train_final_model(\n",
    "        X_train_full=X,\n",
    "        y_train_full=y,\n",
    "        groups_train_full=groups_for_splitting,\n",
    "        best_params=best_params_from_tuning\n",
    "    )\n",
    "    \n",
    "    if final_trained_model:\n",
    "        print(\"Final model successfully trained.\")\n",
    "        \n",
    "        # Save the model for future use\n",
    "        cb_model.save_model(final_trained_model, \"contextual_bandit_model.joblib\")\n",
    "    else:\n",
    "        print(\"Final model training failed or returned None.\")\n",
    "else:\n",
    "    print(\"\\nSkipping final model training due to missing data, groups, or best_params_from_tuning.\")"
   ],
   "outputs": [
    {
     "name": "stdout",
     "output_type": "stream",
     "text": [
      "\n",
      "Skipping final model training due to missing data, groups, or best_params_from_tuning.\n"
     ]
    }
   ],
   "execution_count": 11
  },
  {
   "cell_type": "markdown",
   "metadata": {},
   "source": [
    "## 8. Prepare Test Data and Generate Kaggle Submission"
   ]
  },
  {
   "cell_type": "code",
   "metadata": {
    "ExecuteTime": {
     "end_time": "2025-05-18T18:49:57.330766Z",
     "start_time": "2025-05-18T18:47:15.395632Z"
    }
   },
   "source": [
    "if final_trained_model is not None and X is not None and 'feature_columns' in locals() and feature_columns:\n",
    "    print(\"\\n--- Preparing Test Data and Generating Kaggle Submission ---\")\n",
    "\n",
    "    # Load Test Data\n",
    "    print(f\"Loading test data from: {TEST_FILE}...\")\n",
    "    try:\n",
    "        df_test_raw = pd.read_csv(TEST_FILE)\n",
    "        print(f\"Loaded test dataset with shape: {df_test_raw.shape}\")\n",
    "    except FileNotFoundError:\n",
    "        print(f\"ERROR: Test file not found at {TEST_FILE}\")\n",
    "        df_test_raw = None\n",
    "    except Exception as e:\n",
    "        print(f\"Error loading test data: {e}\")\n",
    "        df_test_raw = None\n",
    "\n",
    "    if df_test_raw is not None:\n",
    "        # Preprocess Test Data\n",
    "        print(\"\\nPreprocessing test data...\")\n",
    "        \n",
    "        # Handle missing columns\n",
    "        for col in feature_columns:\n",
    "            if col not in df_test_raw.columns:\n",
    "                print(f\"Warning: Feature column '{col}' not found in test data. Creating it with NaNs.\")\n",
    "                df_test_raw[col] = np.nan \n",
    "        \n",
    "        X_test = df_test_raw[feature_columns].copy()\n",
    "\n",
    "        # Impute missing values in X_test using medians from the TRAINING sample (X)\n",
    "        print(\"Imputing missing values in test data using training set statistics...\")\n",
    "        nan_counts_before_imputation = X_test.isnull().sum()\n",
    "\n",
    "        for col in X_test.columns:\n",
    "            if X_test[col].isnull().any():\n",
    "                if pd.api.types.is_numeric_dtype(X_test[col]):\n",
    "                    if col in X.columns:\n",
    "                        train_median = X[col].median()\n",
    "                        X_test[col].fillna(train_median, inplace=True)\n",
    "                    else:\n",
    "                        print(f\"Warning: Column '{col}' for median imputation not found in training X.\")\n",
    "                else:\n",
    "                    if col in X.columns:\n",
    "                        train_mode = X[col].mode()[0]\n",
    "                        X_test[col].fillna(train_mode, inplace=True)\n",
    "                    else:\n",
    "                        print(f\"Warning: Column '{col}' for mode imputation not found in training X.\")\n",
    "        \n",
    "        nan_counts_after_imputation = X_test.isnull().sum().sum()\n",
    "        print(f\"NaNs remaining in X_test after imputation: {nan_counts_after_imputation}\")\n",
    "        \n",
    "        if nan_counts_after_imputation > 0:\n",
    "            print(\"Warning: Some NaNs remain in test features after imputation. Filling with zeros.\")\n",
    "            X_test.fillna(0, inplace=True)\n",
    "\n",
    "        # Generate Submission File\n",
    "        cb_model.predict_and_format_submission(\n",
    "            model=final_trained_model,\n",
    "            X_test=X_test,\n",
    "            df_test_original_ids=df_test_raw,\n",
    "            submission_filename=SUBMISSION_FILENAME\n",
    "        )\n",
    "    else:\n",
    "        print(\"Skipping submission generation as test data could not be loaded.\")\n",
    "else:\n",
    "    print(\"\\nSkipping Kaggle submission: final_trained_model, X, or feature_columns not available.\")"
   ],
   "outputs": [
    {
     "name": "stdout",
     "output_type": "stream",
     "text": [
      "\n",
      "Skipping Kaggle submission: final_trained_model, X, or feature_columns not available.\n"
     ]
    }
   ],
   "execution_count": 12
  },
  {
   "cell_type": "markdown",
   "metadata": {},
   "source": [
    "## 9. Analysis and Comparison\n",
    "\n",
    "Let's analyze the performance of our contextual bandit approach and compare it with the LGBMRanker from the main notebook."
   ]
  },
  {
   "cell_type": "code",
   "metadata": {
    "ExecuteTime": {
     "end_time": "2025-05-18T18:49:57.334857Z",
     "start_time": "2025-05-18T18:47:15.424770Z"
    }
   },
   "source": [
    "if 'mean_cv_ndcg' in locals() and mean_cv_ndcg > 0:\n",
    "    # Create comparison table\n",
    "    models = ['LGBMRanker (baseline)', 'Contextual Bandit']\n",
    "    ndcg_values = [0.35, mean_cv_ndcg]  # Update baseline value if known\n",
    "    \n",
    "    comparison_df = pd.DataFrame({\n",
    "        'Model': models,\n",
    "        'NDCG@5': ndcg_values\n",
    "    })\n",
    "    \n",
    "    print(\"Model Performance Comparison:\")\n",
    "    display(comparison_df)\n",
    "    \n",
    "    # Visualize comparison\n",
    "    plt.figure(figsize=(10, 6))\n",
    "    sns.barplot(x='Model', y='NDCG@5', data=comparison_df)\n",
    "    plt.title('Model Performance Comparison (NDCG@5)')\n",
    "    plt.ylim(0, max(ndcg_values) * 1.2)\n",
    "    plt.tight_layout()\n",
    "    plt.show()\n",
    "    \n",
    "    # Advantages and disadvantages of contextual bandits\n",
    "    print(\"\\nContextual Bandit Approach Analysis:\")\n",
    "    print(\"\\nAdvantages:\")\n",
    "    print(\"- Naturally balances exploration and exploitation\")\n",
    "    print(\"- Adapts to user preferences based on context\")\n",
    "    print(\"- Can discover new promising hotels that might be overlooked by standard ranking models\")\n",
    "    print(\"- Well-suited for reinforcement learning setting where feedback is through user interactions\")\n",
    "    \n",
    "    print(\"\\nDisadvantages:\")\n",
    "    print(\"- May require more data to converge compared to supervised learning approaches\")\n",
    "    print(\"- Performance depends heavily on the exploration strategy and its parameters\")\n",
    "    print(\"- Can be computationally intensive during training with large action spaces\")\n",
    "    print(\"- More complex to implement and tune than traditional ranking models\")\n",
    "    \n",
    "    # Conclusion\n",
    "    print(\"\\nConclusion:\")\n",
    "    if mean_cv_ndcg > 0.35:  # Adjust threshold based on actual baseline performance\n",
    "        print(\"The contextual bandit approach outperformed the LGBMRanker baseline, suggesting that\")\n",
    "        print(\"balancing exploration and exploitation is valuable for this recommendation task.\")\n",
    "    else:\n",
    "        print(\"The contextual bandit approach performed comparably to the LGBMRanker baseline.\")\n",
    "        print(\"While it didn't achieve higher NDCG@5, it offers other advantages like better exploration\")\n",
    "        print(\"of the hotel space and potentially better long-term performance as it learns from interactions.\")\n",
    "else:\n",
    "    print(\"No performance metrics available for comparison.\")"
   ],
   "outputs": [
    {
     "name": "stdout",
     "output_type": "stream",
     "text": [
      "No performance metrics available for comparison.\n"
     ]
    }
   ],
   "execution_count": 13
  },
  {
   "cell_type": "markdown",
   "metadata": {},
   "source": "\n"
  },
  {
   "cell_type": "markdown",
   "metadata": {},
   "source": ""
  }
 ],
 "metadata": {
  "kernelspec": {
   "display_name": "Python 3",
   "language": "python",
   "name": "python3"
  },
  "language_info": {
   "codemirror_mode": {
    "name": "ipython",
    "version": 3
   },
   "file_extension": ".py",
   "mimetype": "text/x-python",
   "name": "python",
   "nbconvert_exporter": "python",
   "pygments_lexer": "ipython3",
   "version": "3.8.10"
  }
 },
 "nbformat": 4,
 "nbformat_minor": 4
}
