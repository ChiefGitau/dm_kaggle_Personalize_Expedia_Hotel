{
 "cells": [
  {
   "cell_type": "markdown",
   "metadata": {},
   "source": [
    "# Data Imputation for Expedia Hotel Dataset\n",
    "\n"
   ]
  },
  {
   "cell_type": "code",
   "metadata": {
    "ExecuteTime": {
     "end_time": "2025-05-13T09:52:41.347520Z",
     "start_time": "2025-05-13T09:52:41.338996Z"
    }
   },
   "source": [
    "# Import necessary libraries\n",
    "import pandas as pd\n",
    "import numpy as np\n",
    "import matplotlib.pyplot as plt\n",
    "import seaborn as sns\n",
    "from sklearn.impute import SimpleImputer, KNNImputer\n",
    "from sklearn.experimental import enable_iterative_imputer\n",
    "from sklearn.impute import IterativeImputer\n",
    "from sklearn.ensemble import RandomForestRegressor\n",
    "import time\n",
    "\n",
    "# Set display options\n",
    "pd.set_option('display.max_columns', None)\n",
    "pd.set_option('display.expand_frame_repr', False)\n",
    "pd.set_option('display.float_format', '{:.2f}'.format)\n",
    "\n",
    "# Set plotting styles\n",
    "sns.set_style(\"whitegrid\")\n",
    "sns.set_palette('viridis')"
   ],
   "outputs": [],
   "execution_count": 27
  },
  {
   "cell_type": "markdown",
   "metadata": {},
   "source": "## Loading the Dataset\n"
  },
  {
   "cell_type": "code",
   "metadata": {
    "ExecuteTime": {
     "end_time": "2025-05-13T09:52:43.631535Z",
     "start_time": "2025-05-13T09:52:42.905074Z"
    }
   },
   "source": [
    "# Load the dataset (sample for faster processing)\n",
    "print(\"Loading dataset sample...\")\n",
    "df_sample = pd.read_csv(\"../data/training_set_VU_DM.csv\", nrows=100000)\n",
    "print(f\"Loaded {len(df_sample):,} rows with {len(df_sample.columns)} columns\")\n",
    "\n",
    "# Display first few rows\n",
    "df_sample.head()"
   ],
   "outputs": [
    {
     "name": "stdout",
     "output_type": "stream",
     "text": [
      "Loading dataset sample...\n",
      "Loaded 100,000 rows with 54 columns\n"
     ]
    },
    {
     "data": {
      "text/plain": [
       "   srch_id            date_time  site_id  visitor_location_country_id  visitor_hist_starrating  visitor_hist_adr_usd  prop_country_id  prop_id  prop_starrating  prop_review_score  prop_brand_bool  prop_location_score1  prop_location_score2  prop_log_historical_price  position  price_usd  promotion_flag  srch_destination_id  srch_length_of_stay  srch_booking_window  srch_adults_count  srch_children_count  srch_room_count  srch_saturday_night_bool  srch_query_affinity_score  orig_destination_distance  random_bool  comp1_rate  comp1_inv  comp1_rate_percent_diff  comp2_rate  comp2_inv  comp2_rate_percent_diff  comp3_rate  comp3_inv  comp3_rate_percent_diff  comp4_rate  comp4_inv  comp4_rate_percent_diff  comp5_rate  comp5_inv  comp5_rate_percent_diff  comp6_rate  comp6_inv  comp6_rate_percent_diff  comp7_rate  comp7_inv  comp7_rate_percent_diff  comp8_rate  comp8_inv  comp8_rate_percent_diff  click_bool  gross_bookings_usd  booking_bool\n",
       "0        1  2013-04-04 08:32:15       12                          187                      NaN                   NaN              219      893                3               3.50                1                  2.83                  0.04                       4.95        27     104.77               0                23246                    1                    0                  4                    0                1                         1                        NaN                        NaN            1         NaN        NaN                      NaN        0.00       0.00                      NaN        0.00       0.00                      NaN         NaN        NaN                      NaN        0.00       0.00                      NaN         NaN        NaN                      NaN         NaN        NaN                      NaN        0.00       0.00                      NaN           0                 NaN             0\n",
       "1        1  2013-04-04 08:32:15       12                          187                      NaN                   NaN              219    10404                4               4.00                1                  2.20                  0.01                       5.03        26     170.74               0                23246                    1                    0                  4                    0                1                         1                        NaN                        NaN            1         NaN        NaN                      NaN         NaN        NaN                      NaN        0.00       0.00                      NaN         NaN        NaN                      NaN        0.00       1.00                      NaN         NaN        NaN                      NaN         NaN        NaN                      NaN        0.00       0.00                      NaN           0                 NaN             0\n",
       "2        1  2013-04-04 08:32:15       12                          187                      NaN                   NaN              219    21315                3               4.50                1                  2.20                  0.02                       4.92        21     179.80               0                23246                    1                    0                  4                    0                1                         1                        NaN                        NaN            1         NaN        NaN                      NaN        0.00       0.00                      NaN        0.00       0.00                      NaN         NaN        NaN                      NaN        0.00       0.00                      NaN         NaN        NaN                      NaN         NaN        NaN                      NaN        0.00       0.00                      NaN           0                 NaN             0\n",
       "3        1  2013-04-04 08:32:15       12                          187                      NaN                   NaN              219    27348                2               4.00                1                  2.83                  0.01                       4.39        34     602.77               0                23246                    1                    0                  4                    0                1                         1                        NaN                        NaN            1         NaN        NaN                      NaN       -1.00       0.00                     5.00       -1.00       0.00                     5.00         NaN        NaN                      NaN        0.00       1.00                      NaN         NaN        NaN                      NaN         NaN        NaN                      NaN       -1.00       0.00                     5.00           0                 NaN             0\n",
       "4        1  2013-04-04 08:32:15       12                          187                      NaN                   NaN              219    29604                4               3.50                1                  2.64                  0.12                       4.93         4     143.58               0                23246                    1                    0                  4                    0                1                         1                        NaN                        NaN            1         NaN        NaN                      NaN        0.00       0.00                      NaN        0.00       0.00                      NaN         NaN        NaN                      NaN        0.00       0.00                      NaN         NaN        NaN                      NaN         NaN        NaN                      NaN        0.00       0.00                      NaN           0                 NaN             0"
      ],
      "text/html": [
       "<div>\n",
       "<style scoped>\n",
       "    .dataframe tbody tr th:only-of-type {\n",
       "        vertical-align: middle;\n",
       "    }\n",
       "\n",
       "    .dataframe tbody tr th {\n",
       "        vertical-align: top;\n",
       "    }\n",
       "\n",
       "    .dataframe thead th {\n",
       "        text-align: right;\n",
       "    }\n",
       "</style>\n",
       "<table border=\"1\" class=\"dataframe\">\n",
       "  <thead>\n",
       "    <tr style=\"text-align: right;\">\n",
       "      <th></th>\n",
       "      <th>srch_id</th>\n",
       "      <th>date_time</th>\n",
       "      <th>site_id</th>\n",
       "      <th>visitor_location_country_id</th>\n",
       "      <th>visitor_hist_starrating</th>\n",
       "      <th>visitor_hist_adr_usd</th>\n",
       "      <th>prop_country_id</th>\n",
       "      <th>prop_id</th>\n",
       "      <th>prop_starrating</th>\n",
       "      <th>prop_review_score</th>\n",
       "      <th>prop_brand_bool</th>\n",
       "      <th>prop_location_score1</th>\n",
       "      <th>prop_location_score2</th>\n",
       "      <th>prop_log_historical_price</th>\n",
       "      <th>position</th>\n",
       "      <th>price_usd</th>\n",
       "      <th>promotion_flag</th>\n",
       "      <th>srch_destination_id</th>\n",
       "      <th>srch_length_of_stay</th>\n",
       "      <th>srch_booking_window</th>\n",
       "      <th>srch_adults_count</th>\n",
       "      <th>srch_children_count</th>\n",
       "      <th>srch_room_count</th>\n",
       "      <th>srch_saturday_night_bool</th>\n",
       "      <th>srch_query_affinity_score</th>\n",
       "      <th>orig_destination_distance</th>\n",
       "      <th>random_bool</th>\n",
       "      <th>comp1_rate</th>\n",
       "      <th>comp1_inv</th>\n",
       "      <th>comp1_rate_percent_diff</th>\n",
       "      <th>comp2_rate</th>\n",
       "      <th>comp2_inv</th>\n",
       "      <th>comp2_rate_percent_diff</th>\n",
       "      <th>comp3_rate</th>\n",
       "      <th>comp3_inv</th>\n",
       "      <th>comp3_rate_percent_diff</th>\n",
       "      <th>comp4_rate</th>\n",
       "      <th>comp4_inv</th>\n",
       "      <th>comp4_rate_percent_diff</th>\n",
       "      <th>comp5_rate</th>\n",
       "      <th>comp5_inv</th>\n",
       "      <th>comp5_rate_percent_diff</th>\n",
       "      <th>comp6_rate</th>\n",
       "      <th>comp6_inv</th>\n",
       "      <th>comp6_rate_percent_diff</th>\n",
       "      <th>comp7_rate</th>\n",
       "      <th>comp7_inv</th>\n",
       "      <th>comp7_rate_percent_diff</th>\n",
       "      <th>comp8_rate</th>\n",
       "      <th>comp8_inv</th>\n",
       "      <th>comp8_rate_percent_diff</th>\n",
       "      <th>click_bool</th>\n",
       "      <th>gross_bookings_usd</th>\n",
       "      <th>booking_bool</th>\n",
       "    </tr>\n",
       "  </thead>\n",
       "  <tbody>\n",
       "    <tr>\n",
       "      <th>0</th>\n",
       "      <td>1</td>\n",
       "      <td>2013-04-04 08:32:15</td>\n",
       "      <td>12</td>\n",
       "      <td>187</td>\n",
       "      <td>NaN</td>\n",
       "      <td>NaN</td>\n",
       "      <td>219</td>\n",
       "      <td>893</td>\n",
       "      <td>3</td>\n",
       "      <td>3.50</td>\n",
       "      <td>1</td>\n",
       "      <td>2.83</td>\n",
       "      <td>0.04</td>\n",
       "      <td>4.95</td>\n",
       "      <td>27</td>\n",
       "      <td>104.77</td>\n",
       "      <td>0</td>\n",
       "      <td>23246</td>\n",
       "      <td>1</td>\n",
       "      <td>0</td>\n",
       "      <td>4</td>\n",
       "      <td>0</td>\n",
       "      <td>1</td>\n",
       "      <td>1</td>\n",
       "      <td>NaN</td>\n",
       "      <td>NaN</td>\n",
       "      <td>1</td>\n",
       "      <td>NaN</td>\n",
       "      <td>NaN</td>\n",
       "      <td>NaN</td>\n",
       "      <td>0.00</td>\n",
       "      <td>0.00</td>\n",
       "      <td>NaN</td>\n",
       "      <td>0.00</td>\n",
       "      <td>0.00</td>\n",
       "      <td>NaN</td>\n",
       "      <td>NaN</td>\n",
       "      <td>NaN</td>\n",
       "      <td>NaN</td>\n",
       "      <td>0.00</td>\n",
       "      <td>0.00</td>\n",
       "      <td>NaN</td>\n",
       "      <td>NaN</td>\n",
       "      <td>NaN</td>\n",
       "      <td>NaN</td>\n",
       "      <td>NaN</td>\n",
       "      <td>NaN</td>\n",
       "      <td>NaN</td>\n",
       "      <td>0.00</td>\n",
       "      <td>0.00</td>\n",
       "      <td>NaN</td>\n",
       "      <td>0</td>\n",
       "      <td>NaN</td>\n",
       "      <td>0</td>\n",
       "    </tr>\n",
       "    <tr>\n",
       "      <th>1</th>\n",
       "      <td>1</td>\n",
       "      <td>2013-04-04 08:32:15</td>\n",
       "      <td>12</td>\n",
       "      <td>187</td>\n",
       "      <td>NaN</td>\n",
       "      <td>NaN</td>\n",
       "      <td>219</td>\n",
       "      <td>10404</td>\n",
       "      <td>4</td>\n",
       "      <td>4.00</td>\n",
       "      <td>1</td>\n",
       "      <td>2.20</td>\n",
       "      <td>0.01</td>\n",
       "      <td>5.03</td>\n",
       "      <td>26</td>\n",
       "      <td>170.74</td>\n",
       "      <td>0</td>\n",
       "      <td>23246</td>\n",
       "      <td>1</td>\n",
       "      <td>0</td>\n",
       "      <td>4</td>\n",
       "      <td>0</td>\n",
       "      <td>1</td>\n",
       "      <td>1</td>\n",
       "      <td>NaN</td>\n",
       "      <td>NaN</td>\n",
       "      <td>1</td>\n",
       "      <td>NaN</td>\n",
       "      <td>NaN</td>\n",
       "      <td>NaN</td>\n",
       "      <td>NaN</td>\n",
       "      <td>NaN</td>\n",
       "      <td>NaN</td>\n",
       "      <td>0.00</td>\n",
       "      <td>0.00</td>\n",
       "      <td>NaN</td>\n",
       "      <td>NaN</td>\n",
       "      <td>NaN</td>\n",
       "      <td>NaN</td>\n",
       "      <td>0.00</td>\n",
       "      <td>1.00</td>\n",
       "      <td>NaN</td>\n",
       "      <td>NaN</td>\n",
       "      <td>NaN</td>\n",
       "      <td>NaN</td>\n",
       "      <td>NaN</td>\n",
       "      <td>NaN</td>\n",
       "      <td>NaN</td>\n",
       "      <td>0.00</td>\n",
       "      <td>0.00</td>\n",
       "      <td>NaN</td>\n",
       "      <td>0</td>\n",
       "      <td>NaN</td>\n",
       "      <td>0</td>\n",
       "    </tr>\n",
       "    <tr>\n",
       "      <th>2</th>\n",
       "      <td>1</td>\n",
       "      <td>2013-04-04 08:32:15</td>\n",
       "      <td>12</td>\n",
       "      <td>187</td>\n",
       "      <td>NaN</td>\n",
       "      <td>NaN</td>\n",
       "      <td>219</td>\n",
       "      <td>21315</td>\n",
       "      <td>3</td>\n",
       "      <td>4.50</td>\n",
       "      <td>1</td>\n",
       "      <td>2.20</td>\n",
       "      <td>0.02</td>\n",
       "      <td>4.92</td>\n",
       "      <td>21</td>\n",
       "      <td>179.80</td>\n",
       "      <td>0</td>\n",
       "      <td>23246</td>\n",
       "      <td>1</td>\n",
       "      <td>0</td>\n",
       "      <td>4</td>\n",
       "      <td>0</td>\n",
       "      <td>1</td>\n",
       "      <td>1</td>\n",
       "      <td>NaN</td>\n",
       "      <td>NaN</td>\n",
       "      <td>1</td>\n",
       "      <td>NaN</td>\n",
       "      <td>NaN</td>\n",
       "      <td>NaN</td>\n",
       "      <td>0.00</td>\n",
       "      <td>0.00</td>\n",
       "      <td>NaN</td>\n",
       "      <td>0.00</td>\n",
       "      <td>0.00</td>\n",
       "      <td>NaN</td>\n",
       "      <td>NaN</td>\n",
       "      <td>NaN</td>\n",
       "      <td>NaN</td>\n",
       "      <td>0.00</td>\n",
       "      <td>0.00</td>\n",
       "      <td>NaN</td>\n",
       "      <td>NaN</td>\n",
       "      <td>NaN</td>\n",
       "      <td>NaN</td>\n",
       "      <td>NaN</td>\n",
       "      <td>NaN</td>\n",
       "      <td>NaN</td>\n",
       "      <td>0.00</td>\n",
       "      <td>0.00</td>\n",
       "      <td>NaN</td>\n",
       "      <td>0</td>\n",
       "      <td>NaN</td>\n",
       "      <td>0</td>\n",
       "    </tr>\n",
       "    <tr>\n",
       "      <th>3</th>\n",
       "      <td>1</td>\n",
       "      <td>2013-04-04 08:32:15</td>\n",
       "      <td>12</td>\n",
       "      <td>187</td>\n",
       "      <td>NaN</td>\n",
       "      <td>NaN</td>\n",
       "      <td>219</td>\n",
       "      <td>27348</td>\n",
       "      <td>2</td>\n",
       "      <td>4.00</td>\n",
       "      <td>1</td>\n",
       "      <td>2.83</td>\n",
       "      <td>0.01</td>\n",
       "      <td>4.39</td>\n",
       "      <td>34</td>\n",
       "      <td>602.77</td>\n",
       "      <td>0</td>\n",
       "      <td>23246</td>\n",
       "      <td>1</td>\n",
       "      <td>0</td>\n",
       "      <td>4</td>\n",
       "      <td>0</td>\n",
       "      <td>1</td>\n",
       "      <td>1</td>\n",
       "      <td>NaN</td>\n",
       "      <td>NaN</td>\n",
       "      <td>1</td>\n",
       "      <td>NaN</td>\n",
       "      <td>NaN</td>\n",
       "      <td>NaN</td>\n",
       "      <td>-1.00</td>\n",
       "      <td>0.00</td>\n",
       "      <td>5.00</td>\n",
       "      <td>-1.00</td>\n",
       "      <td>0.00</td>\n",
       "      <td>5.00</td>\n",
       "      <td>NaN</td>\n",
       "      <td>NaN</td>\n",
       "      <td>NaN</td>\n",
       "      <td>0.00</td>\n",
       "      <td>1.00</td>\n",
       "      <td>NaN</td>\n",
       "      <td>NaN</td>\n",
       "      <td>NaN</td>\n",
       "      <td>NaN</td>\n",
       "      <td>NaN</td>\n",
       "      <td>NaN</td>\n",
       "      <td>NaN</td>\n",
       "      <td>-1.00</td>\n",
       "      <td>0.00</td>\n",
       "      <td>5.00</td>\n",
       "      <td>0</td>\n",
       "      <td>NaN</td>\n",
       "      <td>0</td>\n",
       "    </tr>\n",
       "    <tr>\n",
       "      <th>4</th>\n",
       "      <td>1</td>\n",
       "      <td>2013-04-04 08:32:15</td>\n",
       "      <td>12</td>\n",
       "      <td>187</td>\n",
       "      <td>NaN</td>\n",
       "      <td>NaN</td>\n",
       "      <td>219</td>\n",
       "      <td>29604</td>\n",
       "      <td>4</td>\n",
       "      <td>3.50</td>\n",
       "      <td>1</td>\n",
       "      <td>2.64</td>\n",
       "      <td>0.12</td>\n",
       "      <td>4.93</td>\n",
       "      <td>4</td>\n",
       "      <td>143.58</td>\n",
       "      <td>0</td>\n",
       "      <td>23246</td>\n",
       "      <td>1</td>\n",
       "      <td>0</td>\n",
       "      <td>4</td>\n",
       "      <td>0</td>\n",
       "      <td>1</td>\n",
       "      <td>1</td>\n",
       "      <td>NaN</td>\n",
       "      <td>NaN</td>\n",
       "      <td>1</td>\n",
       "      <td>NaN</td>\n",
       "      <td>NaN</td>\n",
       "      <td>NaN</td>\n",
       "      <td>0.00</td>\n",
       "      <td>0.00</td>\n",
       "      <td>NaN</td>\n",
       "      <td>0.00</td>\n",
       "      <td>0.00</td>\n",
       "      <td>NaN</td>\n",
       "      <td>NaN</td>\n",
       "      <td>NaN</td>\n",
       "      <td>NaN</td>\n",
       "      <td>0.00</td>\n",
       "      <td>0.00</td>\n",
       "      <td>NaN</td>\n",
       "      <td>NaN</td>\n",
       "      <td>NaN</td>\n",
       "      <td>NaN</td>\n",
       "      <td>NaN</td>\n",
       "      <td>NaN</td>\n",
       "      <td>NaN</td>\n",
       "      <td>0.00</td>\n",
       "      <td>0.00</td>\n",
       "      <td>NaN</td>\n",
       "      <td>0</td>\n",
       "      <td>NaN</td>\n",
       "      <td>0</td>\n",
       "    </tr>\n",
       "  </tbody>\n",
       "</table>\n",
       "</div>"
      ]
     },
     "execution_count": 28,
     "metadata": {},
     "output_type": "execute_result"
    }
   ],
   "execution_count": 28
  },
  {
   "cell_type": "markdown",
   "metadata": {},
   "source": [
    "## Analysis of Missing Values\n",
    "\n"
   ]
  },
  {
   "cell_type": "code",
   "metadata": {
    "ExecuteTime": {
     "end_time": "2025-05-13T09:52:47.004913Z",
     "start_time": "2025-05-13T09:52:46.944540Z"
    }
   },
   "source": [
    "# Calculate missing value percentages for each column\n",
    "missing_data = pd.DataFrame({\n",
    "    'Missing Values': df_sample.isnull().sum(),\n",
    "    'Percentage': (df_sample.isnull().sum() / len(df_sample) * 100).round(2)\n",
    "})\n",
    "\n",
    "missing_data = missing_data.sort_values('Percentage', ascending=False)\n",
    "\n",
    "# Display columns with missing values\n",
    "missing_data[missing_data['Missing Values'] > 0]"
   ],
   "outputs": [
    {
     "data": {
      "text/plain": [
       "                           Missing Values  Percentage\n",
       "comp1_rate_percent_diff             98098       98.10\n",
       "comp6_rate_percent_diff             97983       97.98\n",
       "comp1_rate                          97668       97.67\n",
       "comp1_inv                           97489       97.49\n",
       "comp4_rate_percent_diff             97451       97.45\n",
       "gross_bookings_usd                  97209       97.21\n",
       "comp7_rate_percent_diff             97012       97.01\n",
       "comp6_rate                          94885       94.88\n",
       "visitor_hist_starrating             94561       94.56\n",
       "visitor_hist_adr_usd                94542       94.54\n",
       "comp6_inv                           94434       94.43\n",
       "comp4_rate                          93881       93.88\n",
       "srch_query_affinity_score           93674       93.67\n",
       "comp7_rate                          93357       93.36\n",
       "comp4_inv                           93166       93.17\n",
       "comp7_inv                           92517       92.52\n",
       "comp3_rate_percent_diff             90644       90.64\n",
       "comp2_rate_percent_diff             88862       88.86\n",
       "comp8_rate_percent_diff             87779       87.78\n",
       "comp5_rate_percent_diff             83237       83.24\n",
       "comp3_rate                          69303       69.30\n",
       "comp3_inv                           66881       66.88\n",
       "comp8_rate                          61780       61.78\n",
       "comp8_inv                           60316       60.32\n",
       "comp2_rate                          59476       59.48\n",
       "comp2_inv                           57411       57.41\n",
       "comp5_rate                          54842       54.84\n",
       "comp5_inv                           52092       52.09\n",
       "orig_destination_distance           32092       32.09\n",
       "prop_location_score2                21728       21.73\n",
       "prop_review_score                     141        0.14"
      ],
      "text/html": [
       "<div>\n",
       "<style scoped>\n",
       "    .dataframe tbody tr th:only-of-type {\n",
       "        vertical-align: middle;\n",
       "    }\n",
       "\n",
       "    .dataframe tbody tr th {\n",
       "        vertical-align: top;\n",
       "    }\n",
       "\n",
       "    .dataframe thead th {\n",
       "        text-align: right;\n",
       "    }\n",
       "</style>\n",
       "<table border=\"1\" class=\"dataframe\">\n",
       "  <thead>\n",
       "    <tr style=\"text-align: right;\">\n",
       "      <th></th>\n",
       "      <th>Missing Values</th>\n",
       "      <th>Percentage</th>\n",
       "    </tr>\n",
       "  </thead>\n",
       "  <tbody>\n",
       "    <tr>\n",
       "      <th>comp1_rate_percent_diff</th>\n",
       "      <td>98098</td>\n",
       "      <td>98.10</td>\n",
       "    </tr>\n",
       "    <tr>\n",
       "      <th>comp6_rate_percent_diff</th>\n",
       "      <td>97983</td>\n",
       "      <td>97.98</td>\n",
       "    </tr>\n",
       "    <tr>\n",
       "      <th>comp1_rate</th>\n",
       "      <td>97668</td>\n",
       "      <td>97.67</td>\n",
       "    </tr>\n",
       "    <tr>\n",
       "      <th>comp1_inv</th>\n",
       "      <td>97489</td>\n",
       "      <td>97.49</td>\n",
       "    </tr>\n",
       "    <tr>\n",
       "      <th>comp4_rate_percent_diff</th>\n",
       "      <td>97451</td>\n",
       "      <td>97.45</td>\n",
       "    </tr>\n",
       "    <tr>\n",
       "      <th>gross_bookings_usd</th>\n",
       "      <td>97209</td>\n",
       "      <td>97.21</td>\n",
       "    </tr>\n",
       "    <tr>\n",
       "      <th>comp7_rate_percent_diff</th>\n",
       "      <td>97012</td>\n",
       "      <td>97.01</td>\n",
       "    </tr>\n",
       "    <tr>\n",
       "      <th>comp6_rate</th>\n",
       "      <td>94885</td>\n",
       "      <td>94.88</td>\n",
       "    </tr>\n",
       "    <tr>\n",
       "      <th>visitor_hist_starrating</th>\n",
       "      <td>94561</td>\n",
       "      <td>94.56</td>\n",
       "    </tr>\n",
       "    <tr>\n",
       "      <th>visitor_hist_adr_usd</th>\n",
       "      <td>94542</td>\n",
       "      <td>94.54</td>\n",
       "    </tr>\n",
       "    <tr>\n",
       "      <th>comp6_inv</th>\n",
       "      <td>94434</td>\n",
       "      <td>94.43</td>\n",
       "    </tr>\n",
       "    <tr>\n",
       "      <th>comp4_rate</th>\n",
       "      <td>93881</td>\n",
       "      <td>93.88</td>\n",
       "    </tr>\n",
       "    <tr>\n",
       "      <th>srch_query_affinity_score</th>\n",
       "      <td>93674</td>\n",
       "      <td>93.67</td>\n",
       "    </tr>\n",
       "    <tr>\n",
       "      <th>comp7_rate</th>\n",
       "      <td>93357</td>\n",
       "      <td>93.36</td>\n",
       "    </tr>\n",
       "    <tr>\n",
       "      <th>comp4_inv</th>\n",
       "      <td>93166</td>\n",
       "      <td>93.17</td>\n",
       "    </tr>\n",
       "    <tr>\n",
       "      <th>comp7_inv</th>\n",
       "      <td>92517</td>\n",
       "      <td>92.52</td>\n",
       "    </tr>\n",
       "    <tr>\n",
       "      <th>comp3_rate_percent_diff</th>\n",
       "      <td>90644</td>\n",
       "      <td>90.64</td>\n",
       "    </tr>\n",
       "    <tr>\n",
       "      <th>comp2_rate_percent_diff</th>\n",
       "      <td>88862</td>\n",
       "      <td>88.86</td>\n",
       "    </tr>\n",
       "    <tr>\n",
       "      <th>comp8_rate_percent_diff</th>\n",
       "      <td>87779</td>\n",
       "      <td>87.78</td>\n",
       "    </tr>\n",
       "    <tr>\n",
       "      <th>comp5_rate_percent_diff</th>\n",
       "      <td>83237</td>\n",
       "      <td>83.24</td>\n",
       "    </tr>\n",
       "    <tr>\n",
       "      <th>comp3_rate</th>\n",
       "      <td>69303</td>\n",
       "      <td>69.30</td>\n",
       "    </tr>\n",
       "    <tr>\n",
       "      <th>comp3_inv</th>\n",
       "      <td>66881</td>\n",
       "      <td>66.88</td>\n",
       "    </tr>\n",
       "    <tr>\n",
       "      <th>comp8_rate</th>\n",
       "      <td>61780</td>\n",
       "      <td>61.78</td>\n",
       "    </tr>\n",
       "    <tr>\n",
       "      <th>comp8_inv</th>\n",
       "      <td>60316</td>\n",
       "      <td>60.32</td>\n",
       "    </tr>\n",
       "    <tr>\n",
       "      <th>comp2_rate</th>\n",
       "      <td>59476</td>\n",
       "      <td>59.48</td>\n",
       "    </tr>\n",
       "    <tr>\n",
       "      <th>comp2_inv</th>\n",
       "      <td>57411</td>\n",
       "      <td>57.41</td>\n",
       "    </tr>\n",
       "    <tr>\n",
       "      <th>comp5_rate</th>\n",
       "      <td>54842</td>\n",
       "      <td>54.84</td>\n",
       "    </tr>\n",
       "    <tr>\n",
       "      <th>comp5_inv</th>\n",
       "      <td>52092</td>\n",
       "      <td>52.09</td>\n",
       "    </tr>\n",
       "    <tr>\n",
       "      <th>orig_destination_distance</th>\n",
       "      <td>32092</td>\n",
       "      <td>32.09</td>\n",
       "    </tr>\n",
       "    <tr>\n",
       "      <th>prop_location_score2</th>\n",
       "      <td>21728</td>\n",
       "      <td>21.73</td>\n",
       "    </tr>\n",
       "    <tr>\n",
       "      <th>prop_review_score</th>\n",
       "      <td>141</td>\n",
       "      <td>0.14</td>\n",
       "    </tr>\n",
       "  </tbody>\n",
       "</table>\n",
       "</div>"
      ]
     },
     "execution_count": 29,
     "metadata": {},
     "output_type": "execute_result"
    }
   ],
   "execution_count": 29
  },
  {
   "cell_type": "code",
   "metadata": {
    "ExecuteTime": {
     "end_time": "2025-05-13T09:53:17.898530Z",
     "start_time": "2025-05-13T09:53:17.886844Z"
    }
   },
   "source": [
    "# Identify columns with less than 50% missing values\n",
    "imputable_cols = missing_data[(missing_data['Percentage'] > 0) & (missing_data['Percentage'] < 50)].index.tolist()\n",
    "\n",
    "print(f\"Columns with less than 50% missing values (to be imputed): {len(imputable_cols)}\")\n",
    "imputable_cols"
   ],
   "outputs": [
    {
     "name": "stdout",
     "output_type": "stream",
     "text": [
      "Columns with less than 50% missing values (to be imputed): 3\n"
     ]
    },
    {
     "data": {
      "text/plain": [
       "['orig_destination_distance', 'prop_location_score2', 'prop_review_score']"
      ]
     },
     "execution_count": 34,
     "metadata": {},
     "output_type": "execute_result"
    }
   ],
   "execution_count": 34
  },
  {
   "cell_type": "markdown",
   "metadata": {},
   "source": [
    "## Categorizing Features for Imputation\n",
    "\n",
    "Different imputation strategies are appropriate for different types of features. Let's categorize our imputable features."
   ]
  },
  {
   "cell_type": "code",
   "metadata": {
    "ExecuteTime": {
     "end_time": "2025-05-13T09:53:21.434801Z",
     "start_time": "2025-05-13T09:53:21.420441Z"
    }
   },
   "source": [
    "# Categorize features\n",
    "numeric_features = df_sample[imputable_cols].select_dtypes(include=['int64', 'float64']).columns.tolist()\n",
    "categorical_features = df_sample[imputable_cols].select_dtypes(include=['object', 'bool']).columns.tolist()\n",
    "\n",
    "print(f\"Numeric features with missing values: {len(numeric_features)}\")\n",
    "print(numeric_features)\n",
    "\n",
    "print(f\"\\nCategorical features with missing values: {len(categorical_features)}\")\n",
    "print(categorical_features)"
   ],
   "outputs": [
    {
     "name": "stdout",
     "output_type": "stream",
     "text": [
      "Numeric features with missing values: 3\n",
      "['orig_destination_distance', 'prop_location_score2', 'prop_review_score']\n",
      "\n",
      "Categorical features with missing values: 0\n",
      "[]\n"
     ]
    }
   ],
   "execution_count": 35
  },
  {
   "cell_type": "markdown",
   "metadata": {},
   "source": "## Understanding the Data Context\n"
  },
  {
   "cell_type": "code",
   "metadata": {
    "ExecuteTime": {
     "end_time": "2025-05-13T09:53:27.011226Z",
     "start_time": "2025-05-13T09:53:24.055403Z"
    }
   },
   "source": [
    "# Analyze key features with missing values\n",
    "for col in imputable_cols:\n",
    "    if col in numeric_features:\n",
    "        print(f\"\\n{col}:\")\n",
    "        print(f\"Missing: {df_sample[col].isnull().sum():,} ({df_sample[col].isnull().sum() / len(df_sample) * 100:.2f}%)\")\n",
    "        print(f\"Non-Missing Statistics:\")\n",
    "        print(df_sample[col].describe())\n",
    "        \n",
    "        # Visualize distribution of non-missing values\n",
    "        plt.figure(figsize=(10, 4))\n",
    "        sns.histplot(df_sample[col].dropna(), kde=True)\n",
    "        plt.title(f'Distribution of {col} (Non-Missing Values)')\n",
    "        plt.tight_layout()\n",
    "        plt.show()"
   ],
   "outputs": [
    {
     "name": "stdout",
     "output_type": "stream",
     "text": [
      "\n",
      "orig_destination_distance:\n",
      "Missing: 32,092 (32.09%)\n",
      "Non-Missing Statistics:\n",
      "count   67908.00\n",
      "mean     1310.84\n",
      "std      2025.86\n",
      "min         0.01\n",
      "25%       145.44\n",
      "50%       382.49\n",
      "75%      1504.08\n",
      "max     11631.95\n",
      "Name: orig_destination_distance, dtype: float64\n"
     ]
    },
    {
     "data": {
      "text/plain": [
       "<Figure size 1000x400 with 1 Axes>"
      ],
      "image/png": "[encoded data removed]"
     },
     "metadata": {},
     "output_type": "display_data"
    },
    {
     "name": "stdout",
     "output_type": "stream",
     "text": [
      "\n",
      "prop_location_score2:\n",
      "Missing: 21,728 (21.73%)\n",
      "Non-Missing Statistics:\n",
      "count   78272.00\n",
      "mean        0.13\n",
      "std         0.16\n",
      "min         0.00\n",
      "25%         0.02\n",
      "50%         0.07\n",
      "75%         0.18\n",
      "max         1.00\n",
      "Name: prop_location_score2, dtype: float64\n"
     ]
    },
    {
     "data": {
      "text/plain": [
       "<Figure size 1000x400 with 1 Axes>"
      ],
      "image/png": "[encoded data removed]"
     },
     "metadata": {},
     "output_type": "display_data"
    },
    {
     "name": "stdout",
     "output_type": "stream",
     "text": [
      "\n",
      "prop_review_score:\n",
      "Missing: 141 (0.14%)\n",
      "Non-Missing Statistics:\n",
      "count   99859.00\n",
      "mean        3.81\n",
      "std         1.02\n",
      "min         0.00\n",
      "25%         3.50\n",
      "50%         4.00\n",
      "75%         4.50\n",
      "max         5.00\n",
      "Name: prop_review_score, dtype: float64\n"
     ]
    },
    {
     "data": {
      "text/plain": [
       "<Figure size 1000x400 with 1 Axes>"
      ],
      "image/png": "[encoded data removed]"
     },
     "metadata": {},
     "output_type": "display_data"
    }
   ],
   "execution_count": 36
  },
  {
   "cell_type": "markdown",
   "metadata": {},
   "source": "## Basic Imputation Functions\n"
  },
  {
   "cell_type": "code",
   "metadata": {
    "ExecuteTime": {
     "end_time": "2025-05-13T09:53:33.043814Z",
     "start_time": "2025-05-13T09:53:33.028909Z"
    }
   },
   "source": [
    "def mean_imputation(df, columns):\n",
    "    \"\"\"Impute missing values with mean for each column\"\"\"\n",
    "    imputer = SimpleImputer(strategy='mean')\n",
    "    df_imputed = df.copy()\n",
    "    df_imputed[columns] = imputer.fit_transform(df[columns])\n",
    "    return df_imputed\n",
    "\n",
    "def median_imputation(df, columns):\n",
    "    \"\"\"Impute missing values with median for each column\"\"\"\n",
    "    imputer = SimpleImputer(strategy='median')\n",
    "    df_imputed = df.copy()\n",
    "    df_imputed[columns] = imputer.fit_transform(df[columns])\n",
    "    return df_imputed\n",
    "\n",
    "def mode_imputation(df, columns):\n",
    "    \"\"\"Impute missing values with mode for each column\"\"\"\n",
    "    imputer = SimpleImputer(strategy='most_frequent')\n",
    "    df_imputed = df.copy()\n",
    "    df_imputed[columns] = imputer.fit_transform(df[columns])\n",
    "    return df_imputed\n",
    "\n",
    "def knn_imputation(df, columns, n_neighbors=5):\n",
    "    \"\"\"Impute missing values using KNN\"\"\"\n",
    "    imputer = KNNImputer(n_neighbors=n_neighbors)\n",
    "    df_imputed = df.copy()\n",
    "    df_imputed[columns] = imputer.fit_transform(df[columns])\n",
    "    return df_imputed\n",
    "\n",
    "def iterative_imputation(df, columns, max_iter=10, random_state=0):\n",
    "    \"\"\"Impute missing values using iterative imputation (MICE)\"\"\"\n",
    "    imputer = IterativeImputer(\n",
    "        estimator=RandomForestRegressor(n_estimators=10, random_state=random_state),\n",
    "        max_iter=max_iter,\n",
    "        random_state=random_state\n",
    "    )\n",
    "    df_imputed = df.copy()\n",
    "    df_imputed[columns] = imputer.fit_transform(df[columns])\n",
    "    return df_imputed\n",
    "\n",
    "def group_based_imputation(df, group_col, target_col):\n",
    "    \"\"\"Impute missing values based on group means\"\"\"\n",
    "    df_imputed = df.copy()\n",
    "    # Calculate group means\n",
    "    group_means = df_imputed.groupby(group_col)[target_col].transform('mean')\n",
    "    # Fill missing values with group means\n",
    "    df_imputed[target_col] = df_imputed[target_col].fillna(group_means)\n",
    "    # If there are still missing values, use overall mean\n",
    "    if df_imputed[target_col].isnull().sum() > 0:\n",
    "        df_imputed[target_col] = df_imputed[target_col].fillna(df_imputed[target_col].mean())\n",
    "    return df_imputed"
   ],
   "outputs": [],
   "execution_count": 37
  },
  {
   "cell_type": "markdown",
   "metadata": {},
   "source": "## Developing a Custom Imputation Strategy\n"
  },
  {
   "cell_type": "code",
   "metadata": {
    "ExecuteTime": {
     "end_time": "2025-05-13T09:53:36.323082Z",
     "start_time": "2025-05-13T09:53:36.273543Z"
    }
   },
   "source": [
    "# Create a copy of the original dataframe for imputation\n",
    "df_imputed = df_sample.copy()"
   ],
   "outputs": [],
   "execution_count": 38
  },
  {
   "cell_type": "markdown",
   "metadata": {},
   "source": [
    "### Imputing User History Features\n",
    "\n",
    "For features like visitor_hist_starrating and visitor_hist_adr_usd, we'll use group-based imputation based on visitor_location_country_id, as preferences might vary by country."
   ]
  },
  {
   "cell_type": "code",
   "metadata": {
    "ExecuteTime": {
     "end_time": "2025-05-13T09:53:40.336151Z",
     "start_time": "2025-05-13T09:53:40.326710Z"
    }
   },
   "source": [
    "# Check if these columns are in imputable_cols\n",
    "user_history_cols = [col for col in ['visitor_hist_starrating', 'visitor_hist_adr_usd'] if col in imputable_cols]\n",
    "\n",
    "if user_history_cols:\n",
    "    print(f\"Imputing user history features: {user_history_cols}\")\n",
    "    for col in user_history_cols:\n",
    "        start_time = time.time()\n",
    "        df_imputed = group_based_imputation(df_imputed, 'visitor_location_country_id', col)\n",
    "        print(f\"Imputed {col} in {time.time() - start_time:.2f} seconds\")\n",
    "        \n",
    "        # Check if imputation worked\n",
    "        missing_after = df_imputed[col].isnull().sum()\n",
    "        if missing_after > 0:\n",
    "            print(f\"Warning: {missing_after} values still missing in {col} after imputation\")\n",
    "            # Fall back to mean imputation for any remaining missing values\n",
    "            df_imputed[col] = df_imputed[col].fillna(df_imputed[col].mean())\n",
    "else:\n",
    "    print(\"No user history columns to impute (missing > 50% or no missing values)\")"
   ],
   "outputs": [
    {
     "name": "stdout",
     "output_type": "stream",
     "text": [
      "No user history columns to impute (missing > 50% or no missing values)\n"
     ]
    }
   ],
   "execution_count": 39
  },
  {
   "cell_type": "markdown",
   "metadata": {},
   "source": [
    "### Imputing Property Features\n",
    "\n"
   ]
  },
  {
   "cell_type": "code",
   "metadata": {
    "ExecuteTime": {
     "end_time": "2025-05-13T09:53:46.523570Z",
     "start_time": "2025-05-13T09:53:46.373739Z"
    }
   },
   "source": [
    "# Check which property features are imputable\n",
    "property_cols = [col for col in [\n",
    "    'prop_starrating', 'prop_review_score', 'prop_brand_bool',\n",
    "    'prop_location_score1', 'prop_location_score2'\n",
    "] if col in imputable_cols]\n",
    "\n",
    "if property_cols:\n",
    "    print(f\"Imputing property features: {property_cols}\")\n",
    "    for col in property_cols:\n",
    "        start_time = time.time()\n",
    "        df_imputed = group_based_imputation(df_imputed, 'prop_id', col)\n",
    "        print(f\"Imputed {col} in {time.time() - start_time:.2f} seconds\")\n",
    "        \n",
    "        # Check if imputation worked\n",
    "        missing_after = df_imputed[col].isnull().sum()\n",
    "        if missing_after > 0:\n",
    "            print(f\"Warning: {missing_after} values still missing in {col} after imputation\")\n",
    "            # Fall back to median imputation for any remaining missing values\n",
    "            df_imputed[col] = df_imputed[col].fillna(df_imputed[col].median())\n",
    "else:\n",
    "    print(\"No property columns to impute (missing > 50% or no missing values)\")"
   ],
   "outputs": [
    {
     "name": "stdout",
     "output_type": "stream",
     "text": [
      "Imputing property features: ['prop_review_score', 'prop_location_score2']\n",
      "Imputed prop_review_score in 0.05 seconds\n",
      "Imputed prop_location_score2 in 0.09 seconds\n"
     ]
    }
   ],
   "execution_count": 40
  },
  {
   "cell_type": "markdown",
   "metadata": {},
   "source": [
    "### Imputing Price Features\n",
    "\n"
   ]
  },
  {
   "cell_type": "code",
   "metadata": {
    "ExecuteTime": {
     "end_time": "2025-05-13T09:53:55.398865Z",
     "start_time": "2025-05-13T09:53:55.385240Z"
    }
   },
   "source": [
    "# Check which price features are imputable\n",
    "price_cols = [col for col in [\n",
    "    'price_usd', 'prop_log_historical_price'\n",
    "] if col in imputable_cols]\n",
    "\n",
    "if price_cols:\n",
    "    print(f\"Imputing price features: {price_cols}\")\n",
    "    \n",
    "    # First, group by prop_id\n",
    "    for col in price_cols:\n",
    "        start_time = time.time()\n",
    "        df_imputed = group_based_imputation(df_imputed, 'prop_id', col)\n",
    "        print(f\"Imputed {col} by prop_id in {time.time() - start_time:.2f} seconds\")\n",
    "        \n",
    "        # Check if imputation worked fully\n",
    "        missing_after = df_imputed[col].isnull().sum()\n",
    "        if missing_after > 0:\n",
    "            print(f\"{missing_after} values still missing in {col}, trying to impute by star rating groups\")\n",
    "            # For remaining missing values, try using star rating as a group\n",
    "            start_time = time.time()\n",
    "            df_imputed = group_based_imputation(df_imputed, 'prop_starrating', col)\n",
    "            print(f\"Imputed {col} by star rating in {time.time() - start_time:.2f} seconds\")\n",
    "            \n",
    "            # If still missing, use median\n",
    "            missing_after = df_imputed[col].isnull().sum()\n",
    "            if missing_after > 0:\n",
    "                print(f\"Still {missing_after} missing values in {col}, using median imputation\")\n",
    "                df_imputed[col] = df_imputed[col].fillna(df_imputed[col].median())\n",
    "else:\n",
    "    print(\"No price columns to impute (missing > 50% or no missing values)\")"
   ],
   "outputs": [
    {
     "name": "stdout",
     "output_type": "stream",
     "text": [
      "No price columns to impute (missing > 50% or no missing values)\n"
     ]
    }
   ],
   "execution_count": 41
  },
  {
   "cell_type": "markdown",
   "metadata": {},
   "source": [
    "### Imputing Location Features\n",
    "\n"
   ]
  },
  {
   "cell_type": "code",
   "metadata": {
    "ExecuteTime": {
     "end_time": "2025-05-13T09:53:58.529108Z",
     "start_time": "2025-05-13T09:53:58.296881Z"
    }
   },
   "source": [
    "# Check if orig_destination_distance is imputable\n",
    "if 'orig_destination_distance' in imputable_cols:\n",
    "    print(\"Imputing orig_destination_distance\")\n",
    "    start_time = time.time()\n",
    "    \n",
    "    # Create a combined feature for grouping\n",
    "    df_imputed['location_group'] = df_imputed['visitor_location_country_id'].astype(str) + \"_\" + \\\n",
    "                                   df_imputed['srch_destination_id'].astype(str)\n",
    "    \n",
    "    # Group by visitor country and destination\n",
    "    df_imputed = group_based_imputation(df_imputed, 'location_group', 'orig_destination_distance')\n",
    "    print(f\"Imputed orig_destination_distance in {time.time() - start_time:.2f} seconds\")\n",
    "    \n",
    "    # Drop the temporary grouping column\n",
    "    df_imputed = df_imputed.drop(columns=['location_group'])\n",
    "    \n",
    "    # Check if imputation worked\n",
    "    missing_after = df_imputed['orig_destination_distance'].isnull().sum()\n",
    "    if missing_after > 0:\n",
    "        print(f\"Warning: {missing_after} values still missing, trying alternative imputation\")\n",
    "        # Try grouping just by destination\n",
    "        df_imputed = group_based_imputation(df_imputed, 'srch_destination_id', 'orig_destination_distance')\n",
    "        \n",
    "        # If still missing, use median\n",
    "        missing_after = df_imputed['orig_destination_distance'].isnull().sum()\n",
    "        if missing_after > 0:\n",
    "            print(f\"Still {missing_after} missing values, using median imputation\")\n",
    "            df_imputed['orig_destination_distance'] = df_imputed['orig_destination_distance'].fillna(\n",
    "                df_imputed['orig_destination_distance'].median())\n",
    "else:\n",
    "    print(\"orig_destination_distance not imputable (missing > 50% or no missing values)\")"
   ],
   "outputs": [
    {
     "name": "stdout",
     "output_type": "stream",
     "text": [
      "Imputing orig_destination_distance\n",
      "Imputed orig_destination_distance in 0.20 seconds\n"
     ]
    }
   ],
   "execution_count": 42
  },
  {
   "cell_type": "markdown",
   "metadata": {},
   "source": [
    "### Imputing Competitor Features\n",
    "\n"
   ]
  },
  {
   "cell_type": "code",
   "metadata": {
    "ExecuteTime": {
     "end_time": "2025-05-13T09:54:03.411158Z",
     "start_time": "2025-05-13T09:54:03.391961Z"
    }
   },
   "source": [
    "# Identify imputable competitor features\n",
    "comp_cols = [col for col in imputable_cols if col.startswith('comp')]\n",
    "\n",
    "if comp_cols:\n",
    "    print(f\"Imputing competitor features: {len(comp_cols)} columns\")\n",
    "    \n",
    "    # Group competitor columns by competitor number\n",
    "    for i in range(1, 9):  # 8 competitors\n",
    "        comp_rate_col = f'comp{i}_rate'\n",
    "        comp_inv_col = f'comp{i}_inv'\n",
    "        comp_diff_col = f'comp{i}_rate_percent_diff'\n",
    "        \n",
    "        # Only process columns that are in our imputable list\n",
    "        cols_to_process = [col for col in [comp_rate_col, comp_inv_col, comp_diff_col] if col in comp_cols]\n",
    "        \n",
    "        if not cols_to_process:\n",
    "            continue\n",
    "            \n",
    "        print(f\"\\nProcessing competitor {i} features: {cols_to_process}\")\n",
    "        \n",
    "        # Special logic for competitor data\n",
    "        # If rate is NULL, then inventory and diff should be NULL too (no data from this competitor)\n",
    "        # If rate is 0, it means \"not available\" but there is data\n",
    "        # If rate is 1, it means \"available\"\n",
    "        \n",
    "        # First, ensure consistency\n",
    "        if comp_rate_col in cols_to_process:\n",
    "            # For missing rate values, impute with 0 (not available)\n",
    "            df_imputed[comp_rate_col] = df_imputed[comp_rate_col].fillna(0)\n",
    "            \n",
    "            # When rate is 0, inventory should be 0\n",
    "            if comp_inv_col in cols_to_process:\n",
    "                mask = (df_imputed[comp_rate_col] == 0) & (df_imputed[comp_inv_col].isnull())\n",
    "                df_imputed.loc[mask, comp_inv_col] = 0\n",
    "            \n",
    "            # When rate is 0, diff should be NULL\n",
    "            if comp_diff_col in cols_to_process:\n",
    "                mask = (df_imputed[comp_rate_col] == 0) & (df_imputed[comp_diff_col].isnull())\n",
    "                # We'll keep these as NULL since they represent \"no price difference available\"\n",
    "        \n",
    "        # If inventory is imputable but rate isn't\n",
    "        if comp_inv_col in cols_to_process and comp_rate_col not in cols_to_process:\n",
    "            df_imputed[comp_inv_col] = df_imputed[comp_inv_col].fillna(0)\n",
    "        \n",
    "        # For rate percent diff, we'll impute within property type groups if needed\n",
    "        if comp_diff_col in cols_to_process:\n",
    "            # Only impute diff where rate is 1 (available)\n",
    "            mask = (df_imputed[comp_rate_col] == 1) & (df_imputed[comp_diff_col].isnull())\n",
    "            if mask.sum() > 0:\n",
    "                # Temporary subset for imputation\n",
    "                temp_df = df_imputed[df_imputed[comp_rate_col] == 1]\n",
    "                # Group by star rating\n",
    "                group_means = temp_df.groupby('prop_starrating')[comp_diff_col].transform('mean')\n",
    "                # Apply imputation where needed\n",
    "                df_imputed.loc[mask, comp_diff_col] = df_imputed.loc[mask, 'prop_starrating'].map(\n",
    "                    temp_df.groupby('prop_starrating')[comp_diff_col].mean())\n",
    "                \n",
    "                # If still missing, use overall mean of available values\n",
    "                still_missing = (df_imputed[comp_rate_col] == 1) & (df_imputed[comp_diff_col].isnull())\n",
    "                if still_missing.sum() > 0:\n",
    "                    overall_mean = temp_df[comp_diff_col].mean()\n",
    "                    df_imputed.loc[still_missing, comp_diff_col] = overall_mean\n",
    "    \n",
    "    # Check final imputation status\n",
    "    for col in comp_cols:\n",
    "        missing_after = df_imputed[col].isnull().sum()\n",
    "        if missing_after > 0:\n",
    "            print(f\"Warning: {col} still has {missing_after} missing values after imputation\")\n",
    "else:\n",
    "    print(\"No competitor columns to impute (missing > 50% or no missing values)\")"
   ],
   "outputs": [
    {
     "name": "stdout",
     "output_type": "stream",
     "text": [
      "No competitor columns to impute (missing > 50% or no missing values)\n"
     ]
    }
   ],
   "execution_count": 43
  },
  {
   "cell_type": "markdown",
   "metadata": {},
   "source": [
    "### Imputing Other Remaining Features\n",
    "\n"
   ]
  },
  {
   "cell_type": "code",
   "metadata": {
    "ExecuteTime": {
     "end_time": "2025-05-13T09:54:06.540258Z",
     "start_time": "2025-05-13T09:54:06.523734Z"
    }
   },
   "source": [
    "# Check for any remaining features with missing values\n",
    "remaining_cols = [col for col in imputable_cols if df_imputed[col].isnull().sum() > 0]\n",
    "\n",
    "if remaining_cols:\n",
    "    print(f\"Imputing remaining features with missing values: {remaining_cols}\")\n",
    "    \n",
    "    for col in remaining_cols:\n",
    "        if df_sample[col].dtype in ['int64', 'float64']:\n",
    "            # For numeric columns, use median imputation\n",
    "            df_imputed[col] = df_imputed[col].fillna(df_imputed[col].median())\n",
    "            print(f\"Imputed {col} with median\")\n",
    "        else:\n",
    "            # For categorical columns, use mode imputation\n",
    "            df_imputed[col] = df_imputed[col].fillna(df_imputed[col].mode()[0])\n",
    "            print(f\"Imputed {col} with mode\")\n",
    "else:\n",
    "    print(\"No remaining features with missing values to impute\")"
   ],
   "outputs": [
    {
     "name": "stdout",
     "output_type": "stream",
     "text": [
      "No remaining features with missing values to impute\n"
     ]
    }
   ],
   "execution_count": 44
  },
  {
   "cell_type": "markdown",
   "metadata": {},
   "source": [
    "## Verification of Imputation\n",
    "\n"
   ]
  },
  {
   "cell_type": "code",
   "metadata": {
    "ExecuteTime": {
     "end_time": "2025-05-13T09:54:13.449166Z",
     "start_time": "2025-05-13T09:54:13.418131Z"
    }
   },
   "source": [
    "# Check missing values after imputation\n",
    "missing_after = pd.DataFrame({\n",
    "    'Missing Before': df_sample[imputable_cols].isnull().sum(),\n",
    "    'Missing After': df_imputed[imputable_cols].isnull().sum(),\n",
    "    'Percentage Before': (df_sample[imputable_cols].isnull().sum() / len(df_sample) * 100).round(2),\n",
    "    'Percentage After': (df_imputed[imputable_cols].isnull().sum() / len(df_imputed) * 100).round(2)\n",
    "})\n",
    "\n",
    "missing_after"
   ],
   "outputs": [
    {
     "data": {
      "text/plain": [
       "                           Missing Before  Missing After  Percentage Before  Percentage After\n",
       "orig_destination_distance           32092              0              32.09              0.00\n",
       "prop_location_score2                21728              0              21.73              0.00\n",
       "prop_review_score                     141              0               0.14              0.00"
      ],
      "text/html": [
       "<div>\n",
       "<style scoped>\n",
       "    .dataframe tbody tr th:only-of-type {\n",
       "        vertical-align: middle;\n",
       "    }\n",
       "\n",
       "    .dataframe tbody tr th {\n",
       "        vertical-align: top;\n",
       "    }\n",
       "\n",
       "    .dataframe thead th {\n",
       "        text-align: right;\n",
       "    }\n",
       "</style>\n",
       "<table border=\"1\" class=\"dataframe\">\n",
       "  <thead>\n",
       "    <tr style=\"text-align: right;\">\n",
       "      <th></th>\n",
       "      <th>Missing Before</th>\n",
       "      <th>Missing After</th>\n",
       "      <th>Percentage Before</th>\n",
       "      <th>Percentage After</th>\n",
       "    </tr>\n",
       "  </thead>\n",
       "  <tbody>\n",
       "    <tr>\n",
       "      <th>orig_destination_distance</th>\n",
       "      <td>32092</td>\n",
       "      <td>0</td>\n",
       "      <td>32.09</td>\n",
       "      <td>0.00</td>\n",
       "    </tr>\n",
       "    <tr>\n",
       "      <th>prop_location_score2</th>\n",
       "      <td>21728</td>\n",
       "      <td>0</td>\n",
       "      <td>21.73</td>\n",
       "      <td>0.00</td>\n",
       "    </tr>\n",
       "    <tr>\n",
       "      <th>prop_review_score</th>\n",
       "      <td>141</td>\n",
       "      <td>0</td>\n",
       "      <td>0.14</td>\n",
       "      <td>0.00</td>\n",
       "    </tr>\n",
       "  </tbody>\n",
       "</table>\n",
       "</div>"
      ]
     },
     "execution_count": 45,
     "metadata": {},
     "output_type": "execute_result"
    }
   ],
   "execution_count": 45
  },
  {
   "cell_type": "code",
   "metadata": {
    "ExecuteTime": {
     "end_time": "2025-05-13T09:54:19.090427Z",
     "start_time": "2025-05-13T09:54:19.082626Z"
    }
   },
   "source": [
    "# Verify all imputable columns have no missing values\n",
    "still_missing = missing_after[missing_after['Missing After'] > 0]\n",
    "\n",
    "if not still_missing.empty:\n",
    "    print(\"Warning: Some columns still have missing values after imputation:\")\n",
    "    print(still_missing)\n",
    "else:\n",
    "    print(\"All imputable columns have been successfully imputed!\")"
   ],
   "outputs": [
    {
     "name": "stdout",
     "output_type": "stream",
     "text": [
      "All imputable columns have been successfully imputed!\n"
     ]
    }
   ],
   "execution_count": 46
  },
  {
   "cell_type": "markdown",
   "metadata": {},
   "source": [
    "## Comparison of Original vs. Imputed Data\n",
    "\n",
    "Let's compare the distributions of the original and imputed data to ensure our imputation strategy is reasonable."
   ]
  },
  {
   "cell_type": "code",
   "metadata": {
    "ExecuteTime": {
     "end_time": "2025-05-13T09:54:28.535022Z",
     "start_time": "2025-05-13T09:54:22.748329Z"
    }
   },
   "source": [
    "# Compare distributions for key imputed features\n",
    "for col in imputable_cols:\n",
    "    if col in numeric_features and df_sample[col].isnull().sum() > 0:\n",
    "        print(f\"\\nComparing distributions for {col}\")\n",
    "        \n",
    "        plt.figure(figsize=(15, 5))\n",
    "        \n",
    "        # Original non-missing data\n",
    "        plt.subplot(1, 2, 1)\n",
    "        sns.histplot(df_sample[col].dropna(), kde=True)\n",
    "        plt.title(f'Original {col} (Non-Missing Values)')\n",
    "        \n",
    "        # Imputed data\n",
    "        plt.subplot(1, 2, 2)\n",
    "        sns.histplot(df_imputed[col], kde=True)\n",
    "        plt.title(f'Imputed {col}')\n",
    "        \n",
    "        plt.tight_layout()\n",
    "        plt.show()\n",
    "        \n",
    "        # Compare statistics\n",
    "        stats_comparison = pd.DataFrame({\n",
    "            'Original (Non-Missing)': df_sample[col].dropna().describe(),\n",
    "            'Imputed': df_imputed[col].describe()\n",
    "        })\n",
    "        print(stats_comparison)"
   ],
   "outputs": [
    {
     "name": "stdout",
     "output_type": "stream",
     "text": [
      "\n",
      "Comparing distributions for orig_destination_distance\n"
     ]
    },
    {
     "data": {
      "text/plain": [
       "<Figure size 1500x500 with 2 Axes>"
      ],
      "image/png": "[encoded data removed]"
     },
     "metadata": {},
     "output_type": "display_data"
    },
    {
     "name": "stdout",
     "output_type": "stream",
     "text": [
      "       Original (Non-Missing)   Imputed\n",
      "count                67908.00 100000.00\n",
      "mean                  1310.84   1298.55\n",
      "std                   2025.86   1718.59\n",
      "min                      0.01      0.01\n",
      "25%                    145.44    213.72\n",
      "50%                    382.49   1020.68\n",
      "75%                   1504.08   1298.55\n",
      "max                  11631.95  11631.95\n",
      "\n",
      "Comparing distributions for prop_location_score2\n"
     ]
    },
    {
     "data": {
      "text/plain": [
       "<Figure size 1500x500 with 2 Axes>"
      ],
      "image/png": "[encoded data removed]"
     },
     "metadata": {},
     "output_type": "display_data"
    },
    {
     "name": "stdout",
     "output_type": "stream",
     "text": [
      "       Original (Non-Missing)   Imputed\n",
      "count                78272.00 100000.00\n",
      "mean                     0.13      0.13\n",
      "std                      0.16      0.15\n",
      "min                      0.00      0.00\n",
      "25%                      0.02      0.02\n",
      "50%                      0.07      0.08\n",
      "75%                      0.18      0.16\n",
      "max                      1.00      1.00\n",
      "\n",
      "Comparing distributions for prop_review_score\n"
     ]
    },
    {
     "data": {
      "text/plain": [
       "<Figure size 1500x500 with 2 Axes>"
      ],
      "image/png": "[encoded data removed]"
     },
     "metadata": {},
     "output_type": "display_data"
    },
    {
     "name": "stdout",
     "output_type": "stream",
     "text": [
      "       Original (Non-Missing)   Imputed\n",
      "count                99859.00 100000.00\n",
      "mean                     3.81      3.81\n",
      "std                      1.02      1.02\n",
      "min                      0.00      0.00\n",
      "25%                      3.50      3.50\n",
      "50%                      4.00      4.00\n",
      "75%                      4.50      4.50\n",
      "max                      5.00      5.00\n"
     ]
    }
   ],
   "execution_count": 47
  },
  {
   "cell_type": "markdown",
   "metadata": {},
   "source": "## Saving the Imputed Dataset\n"
  },
  {
   "cell_type": "code",
   "metadata": {
    "ExecuteTime": {
     "end_time": "2025-05-13T09:55:55.724883Z",
     "start_time": "2025-05-13T09:55:53.190299Z"
    }
   },
   "source": [
    "# Save the sample imputed dataset to a CSV file\n",
    "df_imputed.to_csv('imputed_sample_data.csv', index=False)\n",
    "print(f\"Imputed sample dataset saved to 'imputed_sample_data.csv'\")"
   ],
   "outputs": [
    {
     "name": "stdout",
     "output_type": "stream",
     "text": [
      "Imputed sample dataset saved to 'imputed_sample_data.csv'\n"
     ]
    }
   ],
   "execution_count": 48
  },
  {
   "cell_type": "markdown",
   "metadata": {},
   "source": [
    "## Function for Imputing the Full Dataset\n",
    "\n"
   ]
  },
  {
   "cell_type": "code",
   "metadata": {
    "ExecuteTime": {
     "end_time": "2025-05-13T09:55:58.636648Z",
     "start_time": "2025-05-13T09:55:58.599013Z"
    }
   },
   "source": [
    "def impute_expedia_dataset(input_path, output_path, batch_size=100000):\n",
    "    \"\"\"\n",
    "    Impute missing values in the Expedia dataset, processing in batches to handle large data.\n",
    "    \n",
    "    Parameters:\n",
    "    -----------\n",
    "    input_path : str\n",
    "        Path to the input CSV file\n",
    "    output_path : str\n",
    "        Path to save the imputed CSV file\n",
    "    batch_size : int\n",
    "        Number of rows to process in each batch\n",
    "    \"\"\"\n",
    "    # Read the first batch to get column types and build imputers\n",
    "    print(f\"Loading first batch of {batch_size} rows to build imputers...\")\n",
    "    first_batch = pd.read_csv(input_path, nrows=batch_size)\n",
    "    \n",
    "    # Analyze missing values\n",
    "    missing_data = (first_batch.isnull().sum() / len(first_batch) * 100).round(2)\n",
    "    imputable_cols = missing_data[(missing_data > 0) & (missing_data < 50)].index.tolist()\n",
    "    print(f\"Found {len(imputable_cols)} columns with less than 50% missing values\")\n",
    "    \n",
    "    # Initialize counters\n",
    "    total_rows_processed = 0\n",
    "    batch_num = 0\n",
    "    \n",
    "    # Process the dataset in batches\n",
    "    for df_batch in pd.read_csv(input_path, chunksize=batch_size):\n",
    "        batch_num += 1\n",
    "        start_time = time.time()\n",
    "        print(f\"Processing batch {batch_num}, rows {total_rows_processed + 1} to {total_rows_processed + len(df_batch)}\")\n",
    "        \n",
    "        # Apply imputation strategies to this batch\n",
    "        df_imputed = df_batch.copy()\n",
    "        \n",
    "        # User history features\n",
    "        user_history_cols = [col for col in ['visitor_hist_starrating', 'visitor_hist_adr_usd'] if col in imputable_cols]\n",
    "        for col in user_history_cols:\n",
    "            df_imputed = group_based_imputation(df_imputed, 'visitor_location_country_id', col)\n",
    "            # Fallback to mean if still missing\n",
    "            if df_imputed[col].isnull().sum() > 0:\n",
    "                df_imputed[col] = df_imputed[col].fillna(df_imputed[col].mean())\n",
    "        \n",
    "        # Property features\n",
    "        property_cols = [col for col in [\n",
    "            'prop_starrating', 'prop_review_score', 'prop_brand_bool',\n",
    "            'prop_location_score1', 'prop_location_score2'\n",
    "        ] if col in imputable_cols]\n",
    "        for col in property_cols:\n",
    "            df_imputed = group_based_imputation(df_imputed, 'prop_id', col)\n",
    "            # Fallback to median if still missing\n",
    "            if df_imputed[col].isnull().sum() > 0:\n",
    "                df_imputed[col] = df_imputed[col].fillna(df_imputed[col].median())\n",
    "        \n",
    "        # Price features\n",
    "        price_cols = [col for col in ['price_usd', 'prop_log_historical_price'] if col in imputable_cols]\n",
    "        for col in price_cols:\n",
    "            # Try by prop_id first\n",
    "            df_imputed = group_based_imputation(df_imputed, 'prop_id', col)\n",
    "            # Then try by star rating\n",
    "            if df_imputed[col].isnull().sum() > 0:\n",
    "                df_imputed = group_based_imputation(df_imputed, 'prop_starrating', col)\n",
    "            # Fallback to median\n",
    "            if df_imputed[col].isnull().sum() > 0:\n",
    "                df_imputed[col] = df_imputed[col].fillna(df_imputed[col].median())\n",
    "        \n",
    "        # Location features\n",
    "        if 'orig_destination_distance' in imputable_cols:\n",
    "            # Create a combined feature for grouping\n",
    "            df_imputed['location_group'] = df_imputed['visitor_location_country_id'].astype(str) + \"_\" + \\\n",
    "                                           df_imputed['srch_destination_id'].astype(str)\n",
    "            # Group by visitor country and destination\n",
    "            df_imputed = group_based_imputation(df_imputed, 'location_group', 'orig_destination_distance')\n",
    "            # Drop the temporary grouping column\n",
    "            df_imputed = df_imputed.drop(columns=['location_group'])\n",
    "            # Try by destination only if still missing\n",
    "            if df_imputed['orig_destination_distance'].isnull().sum() > 0:\n",
    "                df_imputed = group_based_imputation(df_imputed, 'srch_destination_id', 'orig_destination_distance')\n",
    "            # Fallback to median\n",
    "            if df_imputed['orig_destination_distance'].isnull().sum() > 0:\n",
    "                df_imputed['orig_destination_distance'] = df_imputed['orig_destination_distance'].fillna(\n",
    "                    df_imputed['orig_destination_distance'].median())\n",
    "        \n",
    "        # Competitor features\n",
    "        comp_cols = [col for col in imputable_cols if col.startswith('comp')]\n",
    "        for i in range(1, 9):  # 8 competitors\n",
    "            comp_rate_col = f'comp{i}_rate'\n",
    "            comp_inv_col = f'comp{i}_inv'\n",
    "            comp_diff_col = f'comp{i}_rate_percent_diff'\n",
    "            \n",
    "            # Only process columns that are in our imputable list\n",
    "            cols_to_process = [col for col in [comp_rate_col, comp_inv_col, comp_diff_col] if col in comp_cols]\n",
    "            \n",
    "            if not cols_to_process:\n",
    "                continue\n",
    "                \n",
    "            # First, ensure consistency\n",
    "            if comp_rate_col in cols_to_process:\n",
    "                df_imputed[comp_rate_col] = df_imputed[comp_rate_col].fillna(0)\n",
    "                \n",
    "                if comp_inv_col in cols_to_process:\n",
    "                    mask = (df_imputed[comp_rate_col] == 0) & (df_imputed[comp_inv_col].isnull())\n",
    "                    df_imputed.loc[mask, comp_inv_col] = 0\n",
    "            \n",
    "            if comp_inv_col in cols_to_process and comp_rate_col not in cols_to_process:\n",
    "                df_imputed[comp_inv_col] = df_imputed[comp_inv_col].fillna(0)\n",
    "            \n",
    "            if comp_diff_col in cols_to_process:\n",
    "                if comp_rate_col in df_imputed.columns:\n",
    "                    mask = (df_imputed[comp_rate_col] == 1) & (df_imputed[comp_diff_col].isnull())\n",
    "                    if mask.sum() > 0:\n",
    "                        temp_df = df_imputed[df_imputed[comp_rate_col] == 1]\n",
    "                        if not temp_df.empty and temp_df[comp_diff_col].notnull().any():\n",
    "                            # Group by star rating\n",
    "                            temp_means = temp_df.groupby('prop_starrating')[comp_diff_col].mean()\n",
    "                            # Apply to missing values where possible\n",
    "                            for star in temp_means.index:\n",
    "                                star_mask = mask & (df_imputed['prop_starrating'] == star)\n",
    "                                df_imputed.loc[star_mask, comp_diff_col] = temp_means[star]\n",
    "                            \n",
    "                            # For any remaining, use overall mean\n",
    "                            still_missing = (df_imputed[comp_rate_col] == 1) & (df_imputed[comp_diff_col].isnull())\n",
    "                            if still_missing.sum() > 0 and temp_df[comp_diff_col].notnull().any():\n",
    "                                df_imputed.loc[still_missing, comp_diff_col] = temp_df[comp_diff_col].mean()\n",
    "        \n",
    "        # Any remaining features with missing values\n",
    "        remaining_cols = [col for col in imputable_cols if df_imputed[col].isnull().sum() > 0]\n",
    "        for col in remaining_cols:\n",
    "            # Skip columns that should remain partially null (like competitor diffs)\n",
    "            if col.endswith('rate_percent_diff'):\n",
    "                continue\n",
    "                \n",
    "            if df_batch[col].dtype in ['int64', 'float64']:\n",
    "                df_imputed[col] = df_imputed[col].fillna(df_imputed[col].median())\n",
    "            else:\n",
    "                # Use mode for categorical\n",
    "                if not df_imputed[col].dropna().empty:\n",
    "                    df_imputed[col] = df_imputed[col].fillna(df_imputed[col].mode()[0])\n",
    "        \n",
    "        # Write to output file (append mode for all but first batch)\n",
    "        if batch_num == 1:\n",
    "            df_imputed.to_csv(output_path, index=False)\n",
    "        else:\n",
    "            df_imputed.to_csv(output_path, mode='a', header=False, index=False)\n",
    "        \n",
    "        # Update counters and report progress\n",
    "        total_rows_processed += len(df_batch)\n",
    "        elapsed_time = time.time() - start_time\n",
    "        print(f\"Batch {batch_num} completed in {elapsed_time:.2f} seconds. Total rows processed: {total_rows_processed:,}\")\n",
    "    \n",
    "    print(f\"Imputation complete! Imputed data saved to {output_path}\")"
   ],
   "outputs": [],
   "execution_count": 50
  },
  {
   "cell_type": "markdown",
   "metadata": {},
   "source": "# Full cdata imputation"
  },
  {
   "cell_type": "code",
   "metadata": {
    "ExecuteTime": {
     "end_time": "2025-05-13T09:58:55.375612Z",
     "start_time": "2025-05-13T09:56:05.399596Z"
    }
   },
   "source": [
    "# This will process the full dataset - this may take a long time and consume significant memory\n",
    "# Uncomment to run\n",
    "\n",
    "impute_expedia_dataset(\n",
    "    input_path=\"../data/training_set_VU_DM.csv\",\n",
    "    output_path=\"../data/training_set_VU_DM_imputed.csv\",\n",
    "    batch_size=100000\n",
    ")"
   ],
   "outputs": [
    {
     "name": "stdout",
     "output_type": "stream",
     "text": [
      "Loading first batch of 100000 rows to build imputers...\n",
      "Found 3 columns with less than 50% missing values\n",
      "Processing batch 1, rows 1 to 100000\n",
      "Batch 1 completed in 2.95 seconds. Total rows processed: 100,000\n",
      "Processing batch 2, rows 100001 to 200000\n",
      "Batch 2 completed in 2.63 seconds. Total rows processed: 200,000\n",
      "Processing batch 3, rows 200001 to 300000\n",
      "Batch 3 completed in 2.64 seconds. Total rows processed: 300,000\n",
      "Processing batch 4, rows 300001 to 400000\n",
      "Batch 4 completed in 2.62 seconds. Total rows processed: 400,000\n",
      "Processing batch 5, rows 400001 to 500000\n",
      "Batch 5 completed in 2.81 seconds. Total rows processed: 500,000\n",
      "Processing batch 6, rows 500001 to 600000\n",
      "Batch 6 completed in 2.80 seconds. Total rows processed: 600,000\n",
      "Processing batch 7, rows 600001 to 700000\n",
      "Batch 7 completed in 2.72 seconds. Total rows processed: 700,000\n",
      "Processing batch 8, rows 700001 to 800000\n",
      "Batch 8 completed in 2.81 seconds. Total rows processed: 800,000\n",
      "Processing batch 9, rows 800001 to 900000\n",
      "Batch 9 completed in 2.80 seconds. Total rows processed: 900,000\n",
      "Processing batch 10, rows 900001 to 1000000\n",
      "Batch 10 completed in 2.65 seconds. Total rows processed: 1,000,000\n",
      "Processing batch 11, rows 1000001 to 1100000\n",
      "Batch 11 completed in 2.68 seconds. Total rows processed: 1,100,000\n",
      "Processing batch 12, rows 1100001 to 1200000\n",
      "Batch 12 completed in 2.61 seconds. Total rows processed: 1,200,000\n",
      "Processing batch 13, rows 1200001 to 1300000\n",
      "Batch 13 completed in 2.79 seconds. Total rows processed: 1,300,000\n",
      "Processing batch 14, rows 1300001 to 1400000\n",
      "Batch 14 completed in 2.90 seconds. Total rows processed: 1,400,000\n",
      "Processing batch 15, rows 1400001 to 1500000\n",
      "Batch 15 completed in 2.70 seconds. Total rows processed: 1,500,000\n",
      "Processing batch 16, rows 1500001 to 1600000\n",
      "Batch 16 completed in 2.64 seconds. Total rows processed: 1,600,000\n",
      "Processing batch 17, rows 1600001 to 1700000\n",
      "Batch 17 completed in 2.78 seconds. Total rows processed: 1,700,000\n",
      "Processing batch 18, rows 1700001 to 1800000\n",
      "Batch 18 completed in 2.66 seconds. Total rows processed: 1,800,000\n",
      "Processing batch 19, rows 1800001 to 1900000\n",
      "Batch 19 completed in 2.61 seconds. Total rows processed: 1,900,000\n",
      "Processing batch 20, rows 1900001 to 2000000\n",
      "Batch 20 completed in 2.64 seconds. Total rows processed: 2,000,000\n",
      "Processing batch 21, rows 2000001 to 2100000\n",
      "Batch 21 completed in 2.61 seconds. Total rows processed: 2,100,000\n",
      "Processing batch 22, rows 2100001 to 2200000\n",
      "Batch 22 completed in 2.68 seconds. Total rows processed: 2,200,000\n",
      "Processing batch 23, rows 2200001 to 2300000\n",
      "Batch 23 completed in 2.65 seconds. Total rows processed: 2,300,000\n",
      "Processing batch 24, rows 2300001 to 2400000\n",
      "Batch 24 completed in 2.56 seconds. Total rows processed: 2,400,000\n",
      "Processing batch 25, rows 2400001 to 2500000\n",
      "Batch 25 completed in 2.61 seconds. Total rows processed: 2,500,000\n",
      "Processing batch 26, rows 2500001 to 2600000\n",
      "Batch 26 completed in 2.70 seconds. Total rows processed: 2,600,000\n",
      "Processing batch 27, rows 2600001 to 2700000\n",
      "Batch 27 completed in 2.62 seconds. Total rows processed: 2,700,000\n",
      "Processing batch 28, rows 2700001 to 2800000\n",
      "Batch 28 completed in 2.66 seconds. Total rows processed: 2,800,000\n",
      "Processing batch 29, rows 2800001 to 2900000\n",
      "Batch 29 completed in 2.65 seconds. Total rows processed: 2,900,000\n",
      "Processing batch 30, rows 2900001 to 3000000\n",
      "Batch 30 completed in 2.65 seconds. Total rows processed: 3,000,000\n",
      "Processing batch 31, rows 3000001 to 3100000\n",
      "Batch 31 completed in 2.69 seconds. Total rows processed: 3,100,000\n",
      "Processing batch 32, rows 3100001 to 3200000\n",
      "Batch 32 completed in 2.60 seconds. Total rows processed: 3,200,000\n",
      "Processing batch 33, rows 3200001 to 3300000\n",
      "Batch 33 completed in 2.60 seconds. Total rows processed: 3,300,000\n",
      "Processing batch 34, rows 3300001 to 3400000\n",
      "Batch 34 completed in 2.60 seconds. Total rows processed: 3,400,000\n",
      "Processing batch 35, rows 3400001 to 3500000\n",
      "Batch 35 completed in 2.70 seconds. Total rows processed: 3,500,000\n",
      "Processing batch 36, rows 3500001 to 3600000\n",
      "Batch 36 completed in 2.61 seconds. Total rows processed: 3,600,000\n",
      "Processing batch 37, rows 3600001 to 3700000\n",
      "Batch 37 completed in 2.61 seconds. Total rows processed: 3,700,000\n",
      "Processing batch 38, rows 3700001 to 3800000\n",
      "Batch 38 completed in 2.59 seconds. Total rows processed: 3,800,000\n",
      "Processing batch 39, rows 3800001 to 3900000\n",
      "Batch 39 completed in 2.62 seconds. Total rows processed: 3,900,000\n",
      "Processing batch 40, rows 3900001 to 4000000\n",
      "Batch 40 completed in 2.61 seconds. Total rows processed: 4,000,000\n",
      "Processing batch 41, rows 4000001 to 4100000\n",
      "Batch 41 completed in 2.61 seconds. Total rows processed: 4,100,000\n",
      "Processing batch 42, rows 4100001 to 4200000\n",
      "Batch 42 completed in 2.59 seconds. Total rows processed: 4,200,000\n",
      "Processing batch 43, rows 4200001 to 4300000\n",
      "Batch 43 completed in 2.60 seconds. Total rows processed: 4,300,000\n",
      "Processing batch 44, rows 4300001 to 4400000\n",
      "Batch 44 completed in 2.69 seconds. Total rows processed: 4,400,000\n",
      "Processing batch 45, rows 4400001 to 4500000\n",
      "Batch 45 completed in 2.68 seconds. Total rows processed: 4,500,000\n",
      "Processing batch 46, rows 4500001 to 4600000\n",
      "Batch 46 completed in 2.59 seconds. Total rows processed: 4,600,000\n",
      "Processing batch 47, rows 4600001 to 4700000\n",
      "Batch 47 completed in 2.59 seconds. Total rows processed: 4,700,000\n",
      "Processing batch 48, rows 4700001 to 4800000\n",
      "Batch 48 completed in 2.60 seconds. Total rows processed: 4,800,000\n",
      "Processing batch 49, rows 4800001 to 4900000\n",
      "Batch 49 completed in 2.97 seconds. Total rows processed: 4,900,000\n",
      "Processing batch 50, rows 4900001 to 4958347\n",
      "Batch 50 completed in 1.68 seconds. Total rows processed: 4,958,347\n",
      "Imputation complete! Imputed data saved to ../data/training_set_VU_DM_imputed.csv\n"
     ]
    }
   ],
   "execution_count": 51
  },
  {
   "cell_type": "markdown",
   "metadata": {},
   "source": ""
  }
 ],
 "metadata": {
  "kernelspec": {
   "display_name": "Python 3",
   "language": "python",
   "name": "python3"
  },
  "language_info": {
   "codemirror_mode": {
    "name": "ipython",
    "version": 3
   },
   "file_extension": ".py",
   "mimetype": "text/x-python",
   "name": "python",
   "nbconvert_exporter": "python",
   "pygments_lexer": "ipython3",
   "version": "3.8.5"
  }
 },
 "nbformat": 4,
 "nbformat_minor": 4
}
